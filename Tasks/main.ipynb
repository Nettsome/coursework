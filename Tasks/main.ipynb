{
 "cells": [
  {
   "cell_type": "code",
   "execution_count": 2,
   "id": "dcdd69d2-5ae3-476b-8f73-fee67ebca77e",
   "metadata": {},
   "outputs": [],
   "source": [
    "import pandas as pd\n",
    "import numpy as np\n",
    "import matplotlib.pyplot as plt\n",
    "import seaborn as sns"
   ]
  },
  {
   "cell_type": "code",
   "execution_count": 3,
   "id": "5c1fbbad-9e2c-4206-89f4-5e44ee0f3f9a",
   "metadata": {},
   "outputs": [],
   "source": [
    "from rdkit import Chem\n",
    "from rdkit.Chem import Descriptors, rdMolDescriptors\n",
    "from mordred import Calculator, descriptors"
   ]
  },
  {
   "cell_type": "code",
   "execution_count": 4,
   "id": "7d2c8619-cde3-4793-8c61-ec20c1358a90",
   "metadata": {},
   "outputs": [],
   "source": [
    "from sklearn.cluster import KMeans\n",
    "from sklearn.preprocessing import StandardScaler"
   ]
  },
  {
   "cell_type": "code",
   "execution_count": 5,
   "id": "b3379819-02d9-4148-90b1-e588a81c77d7",
   "metadata": {},
   "outputs": [],
   "source": [
    "from sklearn.metrics import silhouette_score\n",
    "from sklearn.metrics import davies_bouldin_score\n",
    "from sklearn.metrics import calinski_harabasz_score"
   ]
  },
  {
   "cell_type": "markdown",
   "id": "87be62f1-13c0-4546-8c02-e5e0d0e9d767",
   "metadata": {},
   "source": [
    "**Чтение данных**"
   ]
  },
  {
   "cell_type": "code",
   "execution_count": 6,
   "id": "e52c3c3f-b3b9-4790-b7b7-9f50f637d64c",
   "metadata": {},
   "outputs": [],
   "source": [
    "def chunk_read_csv(file_path : str, chunk_size: int):\n",
    "    df = pd.DataFrame()\n",
    "    with pd.read_csv(file_path, chunksize=chunk_size) as reader:\n",
    "        df = pd.concat(reader)\n",
    "    return df"
   ]
  },
  {
   "cell_type": "code",
   "execution_count": 7,
   "id": "5cdd1344-6b33-48f7-bdd7-4be120e28fe2",
   "metadata": {},
   "outputs": [
    {
     "data": {
      "text/html": [
       "<div>\n",
       "<style scoped>\n",
       "    .dataframe tbody tr th:only-of-type {\n",
       "        vertical-align: middle;\n",
       "    }\n",
       "\n",
       "    .dataframe tbody tr th {\n",
       "        vertical-align: top;\n",
       "    }\n",
       "\n",
       "    .dataframe thead th {\n",
       "        text-align: right;\n",
       "    }\n",
       "</style>\n",
       "<table border=\"1\" class=\"dataframe\">\n",
       "  <thead>\n",
       "    <tr style=\"text-align: right;\">\n",
       "      <th></th>\n",
       "      <th>SMILES</th>\n",
       "      <th>pIC50</th>\n",
       "      <th>mol</th>\n",
       "      <th>num_atoms</th>\n",
       "      <th>logP</th>\n",
       "    </tr>\n",
       "  </thead>\n",
       "  <tbody>\n",
       "    <tr>\n",
       "      <th>0</th>\n",
       "      <td>O=S(=O)(Nc1cccc(-c2cnc3ccccc3n2)c1)c1cccs1</td>\n",
       "      <td>4.26</td>\n",
       "      <td>&lt;rdkit.Chem.rdchem.Mol object at 0x7f59df45bc30&gt;</td>\n",
       "      <td>25</td>\n",
       "      <td>4.15910</td>\n",
       "    </tr>\n",
       "    <tr>\n",
       "      <th>1</th>\n",
       "      <td>O=c1cc(-c2nc(-c3ccc(-c4cn(CCP(=O)(O)O)nn4)cc3)...</td>\n",
       "      <td>4.34</td>\n",
       "      <td>&lt;rdkit.Chem.rdchem.Mol object at 0x7f59a320c9e0&gt;</td>\n",
       "      <td>36</td>\n",
       "      <td>3.67430</td>\n",
       "    </tr>\n",
       "    <tr>\n",
       "      <th>2</th>\n",
       "      <td>NC(=O)c1ccc2c(c1)nc(C1CCC(O)CC1)n2CCCO</td>\n",
       "      <td>4.53</td>\n",
       "      <td>&lt;rdkit.Chem.rdchem.Mol object at 0x7f59a320cac0&gt;</td>\n",
       "      <td>23</td>\n",
       "      <td>1.53610</td>\n",
       "    </tr>\n",
       "    <tr>\n",
       "      <th>3</th>\n",
       "      <td>NCCCn1c(C2CCNCC2)nc2cc(C(N)=O)ccc21</td>\n",
       "      <td>4.56</td>\n",
       "      <td>&lt;rdkit.Chem.rdchem.Mol object at 0x7f59a320cba0&gt;</td>\n",
       "      <td>22</td>\n",
       "      <td>0.95100</td>\n",
       "    </tr>\n",
       "    <tr>\n",
       "      <th>4</th>\n",
       "      <td>CNC(=S)Nc1cccc(-c2cnc3ccccc3n2)c1</td>\n",
       "      <td>4.59</td>\n",
       "      <td>&lt;rdkit.Chem.rdchem.Mol object at 0x7f59a320c7b0&gt;</td>\n",
       "      <td>21</td>\n",
       "      <td>3.21300</td>\n",
       "    </tr>\n",
       "    <tr>\n",
       "      <th>...</th>\n",
       "      <td>...</td>\n",
       "      <td>...</td>\n",
       "      <td>...</td>\n",
       "      <td>...</td>\n",
       "      <td>...</td>\n",
       "    </tr>\n",
       "    <tr>\n",
       "      <th>16082</th>\n",
       "      <td>S=C(NN=C(c1ccccn1)c1ccccn1)Nc1ccccc1</td>\n",
       "      <td>0.00</td>\n",
       "      <td>&lt;rdkit.Chem.rdchem.Mol object at 0x7f59a314ed50&gt;</td>\n",
       "      <td>24</td>\n",
       "      <td>3.21560</td>\n",
       "    </tr>\n",
       "    <tr>\n",
       "      <th>16083</th>\n",
       "      <td>S=C=NCCCCCCCCCCc1ccccc1</td>\n",
       "      <td>0.00</td>\n",
       "      <td>&lt;rdkit.Chem.rdchem.Mol object at 0x7f59a314edc0&gt;</td>\n",
       "      <td>19</td>\n",
       "      <td>5.45270</td>\n",
       "    </tr>\n",
       "    <tr>\n",
       "      <th>16084</th>\n",
       "      <td>S=C=NCCCCCCCCc1ccccc1</td>\n",
       "      <td>0.00</td>\n",
       "      <td>&lt;rdkit.Chem.rdchem.Mol object at 0x7f59a314ee30&gt;</td>\n",
       "      <td>17</td>\n",
       "      <td>4.67250</td>\n",
       "    </tr>\n",
       "    <tr>\n",
       "      <th>16085</th>\n",
       "      <td>S=c1[nH]nc(Cn2ccc3ccccc32)n1-c1ccccc1</td>\n",
       "      <td>0.00</td>\n",
       "      <td>&lt;rdkit.Chem.rdchem.Mol object at 0x7f59a314eea0&gt;</td>\n",
       "      <td>22</td>\n",
       "      <td>3.93289</td>\n",
       "    </tr>\n",
       "    <tr>\n",
       "      <th>16086</th>\n",
       "      <td>N=[N+]=NC=Cc1ccc([N+](=O)[O-])o1</td>\n",
       "      <td>0.02</td>\n",
       "      <td>&lt;rdkit.Chem.rdchem.Mol object at 0x7f59a314ef10&gt;</td>\n",
       "      <td>13</td>\n",
       "      <td>1.70887</td>\n",
       "    </tr>\n",
       "  </tbody>\n",
       "</table>\n",
       "<p>16087 rows × 5 columns</p>\n",
       "</div>"
      ],
      "text/plain": [
       "                                                  SMILES  pIC50  \\\n",
       "0             O=S(=O)(Nc1cccc(-c2cnc3ccccc3n2)c1)c1cccs1   4.26   \n",
       "1      O=c1cc(-c2nc(-c3ccc(-c4cn(CCP(=O)(O)O)nn4)cc3)...   4.34   \n",
       "2                 NC(=O)c1ccc2c(c1)nc(C1CCC(O)CC1)n2CCCO   4.53   \n",
       "3                    NCCCn1c(C2CCNCC2)nc2cc(C(N)=O)ccc21   4.56   \n",
       "4                      CNC(=S)Nc1cccc(-c2cnc3ccccc3n2)c1   4.59   \n",
       "...                                                  ...    ...   \n",
       "16082               S=C(NN=C(c1ccccn1)c1ccccn1)Nc1ccccc1   0.00   \n",
       "16083                            S=C=NCCCCCCCCCCc1ccccc1   0.00   \n",
       "16084                              S=C=NCCCCCCCCc1ccccc1   0.00   \n",
       "16085              S=c1[nH]nc(Cn2ccc3ccccc32)n1-c1ccccc1   0.00   \n",
       "16086                   N=[N+]=NC=Cc1ccc([N+](=O)[O-])o1   0.02   \n",
       "\n",
       "                                                    mol  num_atoms     logP  \n",
       "0      <rdkit.Chem.rdchem.Mol object at 0x7f59df45bc30>         25  4.15910  \n",
       "1      <rdkit.Chem.rdchem.Mol object at 0x7f59a320c9e0>         36  3.67430  \n",
       "2      <rdkit.Chem.rdchem.Mol object at 0x7f59a320cac0>         23  1.53610  \n",
       "3      <rdkit.Chem.rdchem.Mol object at 0x7f59a320cba0>         22  0.95100  \n",
       "4      <rdkit.Chem.rdchem.Mol object at 0x7f59a320c7b0>         21  3.21300  \n",
       "...                                                 ...        ...      ...  \n",
       "16082  <rdkit.Chem.rdchem.Mol object at 0x7f59a314ed50>         24  3.21560  \n",
       "16083  <rdkit.Chem.rdchem.Mol object at 0x7f59a314edc0>         19  5.45270  \n",
       "16084  <rdkit.Chem.rdchem.Mol object at 0x7f59a314ee30>         17  4.67250  \n",
       "16085  <rdkit.Chem.rdchem.Mol object at 0x7f59a314eea0>         22  3.93289  \n",
       "16086  <rdkit.Chem.rdchem.Mol object at 0x7f59a314ef10>         13  1.70887  \n",
       "\n",
       "[16087 rows x 5 columns]"
      ]
     },
     "execution_count": 7,
     "metadata": {},
     "output_type": "execute_result"
    }
   ],
   "source": [
    "# Загрузка таблицы\n",
    "file_path = 'data/SMILES_Big_Data_Set.csv'\n",
    "df = chunk_read_csv(file_path, chunk_size=200)\n",
    "df"
   ]
  },
  {
   "cell_type": "markdown",
   "id": "fde8a275-17cf-46a7-aad1-9e41d092609f",
   "metadata": {},
   "source": [
    "**Информация о данных**"
   ]
  },
  {
   "cell_type": "code",
   "execution_count": 8,
   "id": "4c401c94-df97-4c4c-9dc7-fcd06a5105ec",
   "metadata": {},
   "outputs": [
    {
     "name": "stdout",
     "output_type": "stream",
     "text": [
      "<class 'pandas.core.frame.DataFrame'>\n",
      "RangeIndex: 16087 entries, 0 to 16086\n",
      "Data columns (total 5 columns):\n",
      " #   Column     Non-Null Count  Dtype  \n",
      "---  ------     --------------  -----  \n",
      " 0   SMILES     16087 non-null  object \n",
      " 1   pIC50      15037 non-null  float64\n",
      " 2   mol        16087 non-null  object \n",
      " 3   num_atoms  16087 non-null  int64  \n",
      " 4   logP       16087 non-null  float64\n",
      "dtypes: float64(2), int64(1), object(2)\n",
      "memory usage: 628.5+ KB\n"
     ]
    }
   ],
   "source": [
    "df.info()"
   ]
  },
  {
   "cell_type": "code",
   "execution_count": 9,
   "id": "01aa1206-f7da-44a9-906a-c6760d29f3d2",
   "metadata": {},
   "outputs": [
    {
     "data": {
      "text/html": [
       "<div>\n",
       "<style scoped>\n",
       "    .dataframe tbody tr th:only-of-type {\n",
       "        vertical-align: middle;\n",
       "    }\n",
       "\n",
       "    .dataframe tbody tr th {\n",
       "        vertical-align: top;\n",
       "    }\n",
       "\n",
       "    .dataframe thead th {\n",
       "        text-align: right;\n",
       "    }\n",
       "</style>\n",
       "<table border=\"1\" class=\"dataframe\">\n",
       "  <thead>\n",
       "    <tr style=\"text-align: right;\">\n",
       "      <th></th>\n",
       "      <th>pIC50</th>\n",
       "      <th>num_atoms</th>\n",
       "      <th>logP</th>\n",
       "    </tr>\n",
       "  </thead>\n",
       "  <tbody>\n",
       "    <tr>\n",
       "      <th>count</th>\n",
       "      <td>15037.000000</td>\n",
       "      <td>16087.000000</td>\n",
       "      <td>16087.000000</td>\n",
       "    </tr>\n",
       "    <tr>\n",
       "      <th>mean</th>\n",
       "      <td>0.998739</td>\n",
       "      <td>18.749984</td>\n",
       "      <td>2.256600</td>\n",
       "    </tr>\n",
       "    <tr>\n",
       "      <th>std</th>\n",
       "      <td>2.479588</td>\n",
       "      <td>8.428888</td>\n",
       "      <td>1.609861</td>\n",
       "    </tr>\n",
       "    <tr>\n",
       "      <th>min</th>\n",
       "      <td>0.000000</td>\n",
       "      <td>3.000000</td>\n",
       "      <td>-5.395600</td>\n",
       "    </tr>\n",
       "    <tr>\n",
       "      <th>25%</th>\n",
       "      <td>0.000000</td>\n",
       "      <td>13.000000</td>\n",
       "      <td>1.214900</td>\n",
       "    </tr>\n",
       "    <tr>\n",
       "      <th>50%</th>\n",
       "      <td>0.010000</td>\n",
       "      <td>17.000000</td>\n",
       "      <td>2.163200</td>\n",
       "    </tr>\n",
       "    <tr>\n",
       "      <th>75%</th>\n",
       "      <td>0.130000</td>\n",
       "      <td>23.000000</td>\n",
       "      <td>3.232440</td>\n",
       "    </tr>\n",
       "    <tr>\n",
       "      <th>max</th>\n",
       "      <td>10.970000</td>\n",
       "      <td>85.000000</td>\n",
       "      <td>15.879200</td>\n",
       "    </tr>\n",
       "  </tbody>\n",
       "</table>\n",
       "</div>"
      ],
      "text/plain": [
       "              pIC50     num_atoms          logP\n",
       "count  15037.000000  16087.000000  16087.000000\n",
       "mean       0.998739     18.749984      2.256600\n",
       "std        2.479588      8.428888      1.609861\n",
       "min        0.000000      3.000000     -5.395600\n",
       "25%        0.000000     13.000000      1.214900\n",
       "50%        0.010000     17.000000      2.163200\n",
       "75%        0.130000     23.000000      3.232440\n",
       "max       10.970000     85.000000     15.879200"
      ]
     },
     "execution_count": 9,
     "metadata": {},
     "output_type": "execute_result"
    }
   ],
   "source": [
    "df.describe()"
   ]
  },
  {
   "cell_type": "markdown",
   "id": "51b76555-67d8-430b-a9a7-0776c960dc2a",
   "metadata": {},
   "source": [
    "**Поиск пропущенных значений**"
   ]
  },
  {
   "cell_type": "code",
   "execution_count": 10,
   "id": "97c3c9a9-2cc2-40f1-a8c5-c2819a080d45",
   "metadata": {},
   "outputs": [
    {
     "data": {
      "text/plain": [
       "pIC50    1050\n",
       "dtype: int64"
      ]
     },
     "execution_count": 10,
     "metadata": {},
     "output_type": "execute_result"
    }
   ],
   "source": [
    "na_values = df.isna().sum()\n",
    "na_values[na_values > 0]"
   ]
  },
  {
   "cell_type": "markdown",
   "id": "f6c2863e-cbc0-42c9-b1f5-9c51a1de6564",
   "metadata": {},
   "source": [
    "Пропущенно 1050 значений в столбце 'plC50' (т.е. 1050 значений в столбце 'pIC50' == NaN)"
   ]
  },
  {
   "cell_type": "markdown",
   "id": "83635565-616f-498d-9e29-fb62d2ece38d",
   "metadata": {},
   "source": [
    "Удалим эти вещества, содержащие пустые значения. В дальнейшем они могут помешать кластеризации"
   ]
  },
  {
   "cell_type": "code",
   "execution_count": 11,
   "id": "e48bd269-14e4-4597-b7ea-5873244b314a",
   "metadata": {},
   "outputs": [],
   "source": [
    "df = df.dropna()"
   ]
  },
  {
   "cell_type": "markdown",
   "id": "e30b3998-dfa6-4c2a-bab4-f79d23fd3a72",
   "metadata": {},
   "source": [
    "Или же можно добавить всем им флаг, что это вещество содержит неизвестное значение PIC50 (но это влияет на кластеризацию)"
   ]
  },
  {
   "cell_type": "code",
   "execution_count": null,
   "id": "9a48d9ed-7cc4-43f1-bd52-8527dbdc6913",
   "metadata": {},
   "outputs": [],
   "source": [
    "# Создаем бинарный флаг для пропущенных значений (0 - не пропущен, 1 - пропущен)\n",
    "df.insert(2, 'pIC50_missing', df['pIC50'].isna().astype(int), True)\n",
    "# Заменяем пропуски специальным значением (вне нормального диапазона)\n",
    "df['pIC50'] = df['pIC50'].fillna(-999)"
   ]
  },
  {
   "cell_type": "code",
   "execution_count": 12,
   "id": "361a3de3-dcd3-441a-8f70-4a309dfb3488",
   "metadata": {},
   "outputs": [
    {
     "data": {
      "text/html": [
       "<div>\n",
       "<style scoped>\n",
       "    .dataframe tbody tr th:only-of-type {\n",
       "        vertical-align: middle;\n",
       "    }\n",
       "\n",
       "    .dataframe tbody tr th {\n",
       "        vertical-align: top;\n",
       "    }\n",
       "\n",
       "    .dataframe thead th {\n",
       "        text-align: right;\n",
       "    }\n",
       "</style>\n",
       "<table border=\"1\" class=\"dataframe\">\n",
       "  <thead>\n",
       "    <tr style=\"text-align: right;\">\n",
       "      <th></th>\n",
       "      <th>SMILES</th>\n",
       "      <th>pIC50</th>\n",
       "      <th>mol</th>\n",
       "      <th>num_atoms</th>\n",
       "      <th>logP</th>\n",
       "    </tr>\n",
       "  </thead>\n",
       "  <tbody>\n",
       "    <tr>\n",
       "      <th>0</th>\n",
       "      <td>O=S(=O)(Nc1cccc(-c2cnc3ccccc3n2)c1)c1cccs1</td>\n",
       "      <td>4.26</td>\n",
       "      <td>&lt;rdkit.Chem.rdchem.Mol object at 0x7f59df45bc30&gt;</td>\n",
       "      <td>25</td>\n",
       "      <td>4.1591</td>\n",
       "    </tr>\n",
       "    <tr>\n",
       "      <th>1</th>\n",
       "      <td>O=c1cc(-c2nc(-c3ccc(-c4cn(CCP(=O)(O)O)nn4)cc3)...</td>\n",
       "      <td>4.34</td>\n",
       "      <td>&lt;rdkit.Chem.rdchem.Mol object at 0x7f59a320c9e0&gt;</td>\n",
       "      <td>36</td>\n",
       "      <td>3.6743</td>\n",
       "    </tr>\n",
       "    <tr>\n",
       "      <th>2</th>\n",
       "      <td>NC(=O)c1ccc2c(c1)nc(C1CCC(O)CC1)n2CCCO</td>\n",
       "      <td>4.53</td>\n",
       "      <td>&lt;rdkit.Chem.rdchem.Mol object at 0x7f59a320cac0&gt;</td>\n",
       "      <td>23</td>\n",
       "      <td>1.5361</td>\n",
       "    </tr>\n",
       "    <tr>\n",
       "      <th>3</th>\n",
       "      <td>NCCCn1c(C2CCNCC2)nc2cc(C(N)=O)ccc21</td>\n",
       "      <td>4.56</td>\n",
       "      <td>&lt;rdkit.Chem.rdchem.Mol object at 0x7f59a320cba0&gt;</td>\n",
       "      <td>22</td>\n",
       "      <td>0.9510</td>\n",
       "    </tr>\n",
       "    <tr>\n",
       "      <th>4</th>\n",
       "      <td>CNC(=S)Nc1cccc(-c2cnc3ccccc3n2)c1</td>\n",
       "      <td>4.59</td>\n",
       "      <td>&lt;rdkit.Chem.rdchem.Mol object at 0x7f59a320c7b0&gt;</td>\n",
       "      <td>21</td>\n",
       "      <td>3.2130</td>\n",
       "    </tr>\n",
       "  </tbody>\n",
       "</table>\n",
       "</div>"
      ],
      "text/plain": [
       "                                              SMILES  pIC50  \\\n",
       "0         O=S(=O)(Nc1cccc(-c2cnc3ccccc3n2)c1)c1cccs1   4.26   \n",
       "1  O=c1cc(-c2nc(-c3ccc(-c4cn(CCP(=O)(O)O)nn4)cc3)...   4.34   \n",
       "2             NC(=O)c1ccc2c(c1)nc(C1CCC(O)CC1)n2CCCO   4.53   \n",
       "3                NCCCn1c(C2CCNCC2)nc2cc(C(N)=O)ccc21   4.56   \n",
       "4                  CNC(=S)Nc1cccc(-c2cnc3ccccc3n2)c1   4.59   \n",
       "\n",
       "                                                mol  num_atoms    logP  \n",
       "0  <rdkit.Chem.rdchem.Mol object at 0x7f59df45bc30>         25  4.1591  \n",
       "1  <rdkit.Chem.rdchem.Mol object at 0x7f59a320c9e0>         36  3.6743  \n",
       "2  <rdkit.Chem.rdchem.Mol object at 0x7f59a320cac0>         23  1.5361  \n",
       "3  <rdkit.Chem.rdchem.Mol object at 0x7f59a320cba0>         22  0.9510  \n",
       "4  <rdkit.Chem.rdchem.Mol object at 0x7f59a320c7b0>         21  3.2130  "
      ]
     },
     "execution_count": 12,
     "metadata": {},
     "output_type": "execute_result"
    }
   ],
   "source": [
    "df.head()"
   ]
  },
  {
   "cell_type": "markdown",
   "id": "5d839cf2-89e2-44ec-a2f8-9cfd8beb7193",
   "metadata": {},
   "source": [
    "**Проверка на уникальность**"
   ]
  },
  {
   "cell_type": "code",
   "execution_count": 13,
   "id": "461f7fa9-7b17-4694-b868-b7ee557a790c",
   "metadata": {},
   "outputs": [
    {
     "name": "stdout",
     "output_type": "stream",
     "text": [
      "Кол-во неуникальных SMILES: 179\n"
     ]
    },
    {
     "data": {
      "text/html": [
       "<div>\n",
       "<style scoped>\n",
       "    .dataframe tbody tr th:only-of-type {\n",
       "        vertical-align: middle;\n",
       "    }\n",
       "\n",
       "    .dataframe tbody tr th {\n",
       "        vertical-align: top;\n",
       "    }\n",
       "\n",
       "    .dataframe thead th {\n",
       "        text-align: right;\n",
       "    }\n",
       "</style>\n",
       "<table border=\"1\" class=\"dataframe\">\n",
       "  <thead>\n",
       "    <tr style=\"text-align: right;\">\n",
       "      <th></th>\n",
       "      <th>SMILES</th>\n",
       "      <th>pIC50</th>\n",
       "      <th>mol</th>\n",
       "      <th>num_atoms</th>\n",
       "      <th>logP</th>\n",
       "    </tr>\n",
       "  </thead>\n",
       "  <tbody>\n",
       "    <tr>\n",
       "      <th>1128</th>\n",
       "      <td>C=CC1(O)CCC(n2cc(C(N)=O)c(Nc3ccc(Cl)cc3)n2)C(C...</td>\n",
       "      <td>7.60</td>\n",
       "      <td>&lt;rdkit.Chem.rdchem.Mol object at 0x7f59a2952500&gt;</td>\n",
       "      <td>27</td>\n",
       "      <td>3.16088</td>\n",
       "    </tr>\n",
       "    <tr>\n",
       "      <th>1517</th>\n",
       "      <td>C=CC1(O)CCC(n2cc(C(N)=O)c(Nc3ccc(Cl)cc3)n2)C(C...</td>\n",
       "      <td>8.22</td>\n",
       "      <td>&lt;rdkit.Chem.rdchem.Mol object at 0x7f59a295d0e0&gt;</td>\n",
       "      <td>27</td>\n",
       "      <td>3.16088</td>\n",
       "    </tr>\n",
       "    <tr>\n",
       "      <th>1889</th>\n",
       "      <td>CC(=O)N1CCC(Nc2ncccc2-c2cnc3[nH]ccc3n2)C1</td>\n",
       "      <td>10.40</td>\n",
       "      <td>&lt;rdkit.Chem.rdchem.Mol object at 0x7f59a29674c0&gt;</td>\n",
       "      <td>24</td>\n",
       "      <td>2.05260</td>\n",
       "    </tr>\n",
       "    <tr>\n",
       "      <th>1865</th>\n",
       "      <td>CC(=O)N1CCC(Nc2ncccc2-c2cnc3[nH]ccc3n2)C1</td>\n",
       "      <td>10.03</td>\n",
       "      <td>&lt;rdkit.Chem.rdchem.Mol object at 0x7f59a2966a40&gt;</td>\n",
       "      <td>24</td>\n",
       "      <td>2.05260</td>\n",
       "    </tr>\n",
       "    <tr>\n",
       "      <th>162</th>\n",
       "      <td>CC(=O)NC1CCc2ccc(Oc3cnc4[nH]cc(C(=O)NC(C)C)c4n...</td>\n",
       "      <td>5.77</td>\n",
       "      <td>&lt;rdkit.Chem.rdchem.Mol object at 0x7f59a31dfa70&gt;</td>\n",
       "      <td>29</td>\n",
       "      <td>3.01180</td>\n",
       "    </tr>\n",
       "    <tr>\n",
       "      <th>...</th>\n",
       "      <td>...</td>\n",
       "      <td>...</td>\n",
       "      <td>...</td>\n",
       "      <td>...</td>\n",
       "      <td>...</td>\n",
       "    </tr>\n",
       "    <tr>\n",
       "      <th>757</th>\n",
       "      <td>[C-]#[N+]C1CC(OCC2CC2)CCC1n1cc(C(N)=O)c(Nc2ccn...</td>\n",
       "      <td>7.12</td>\n",
       "      <td>&lt;rdkit.Chem.rdchem.Mol object at 0x7f59a2948190&gt;</td>\n",
       "      <td>29</td>\n",
       "      <td>3.06779</td>\n",
       "    </tr>\n",
       "    <tr>\n",
       "      <th>569</th>\n",
       "      <td>[C-]#[N+]C1CC(OCC2CC2)CCC1n1cc(C(N)=O)c(Nc2ccn...</td>\n",
       "      <td>6.82</td>\n",
       "      <td>&lt;rdkit.Chem.rdchem.Mol object at 0x7f59a2942e30&gt;</td>\n",
       "      <td>29</td>\n",
       "      <td>3.06779</td>\n",
       "    </tr>\n",
       "    <tr>\n",
       "      <th>1419</th>\n",
       "      <td>[C-]#[N+]C1CC(OCC2CC2)CCC1n1cc(C(N)=O)c(Nc2ccn...</td>\n",
       "      <td>8.05</td>\n",
       "      <td>&lt;rdkit.Chem.rdchem.Mol object at 0x7f59a295a570&gt;</td>\n",
       "      <td>29</td>\n",
       "      <td>3.06779</td>\n",
       "    </tr>\n",
       "    <tr>\n",
       "      <th>643</th>\n",
       "      <td>[C-]#[N+]C1CCCCC1n1cc(C(N)=O)c(Nc2ccc(CC(=O)O)...</td>\n",
       "      <td>6.96</td>\n",
       "      <td>&lt;rdkit.Chem.rdchem.Mol object at 0x7f59a2944f20&gt;</td>\n",
       "      <td>27</td>\n",
       "      <td>2.75569</td>\n",
       "    </tr>\n",
       "    <tr>\n",
       "      <th>889</th>\n",
       "      <td>[C-]#[N+]C1CCCCC1n1cc(C(N)=O)c(Nc2ccc(CC(=O)O)...</td>\n",
       "      <td>7.31</td>\n",
       "      <td>&lt;rdkit.Chem.rdchem.Mol object at 0x7f59a294bb50&gt;</td>\n",
       "      <td>27</td>\n",
       "      <td>2.75569</td>\n",
       "    </tr>\n",
       "  </tbody>\n",
       "</table>\n",
       "<p>393 rows × 5 columns</p>\n",
       "</div>"
      ],
      "text/plain": [
       "                                                 SMILES  pIC50  \\\n",
       "1128  C=CC1(O)CCC(n2cc(C(N)=O)c(Nc3ccc(Cl)cc3)n2)C(C...   7.60   \n",
       "1517  C=CC1(O)CCC(n2cc(C(N)=O)c(Nc3ccc(Cl)cc3)n2)C(C...   8.22   \n",
       "1889          CC(=O)N1CCC(Nc2ncccc2-c2cnc3[nH]ccc3n2)C1  10.40   \n",
       "1865          CC(=O)N1CCC(Nc2ncccc2-c2cnc3[nH]ccc3n2)C1  10.03   \n",
       "162   CC(=O)NC1CCc2ccc(Oc3cnc4[nH]cc(C(=O)NC(C)C)c4n...   5.77   \n",
       "...                                                 ...    ...   \n",
       "757   [C-]#[N+]C1CC(OCC2CC2)CCC1n1cc(C(N)=O)c(Nc2ccn...   7.12   \n",
       "569   [C-]#[N+]C1CC(OCC2CC2)CCC1n1cc(C(N)=O)c(Nc2ccn...   6.82   \n",
       "1419  [C-]#[N+]C1CC(OCC2CC2)CCC1n1cc(C(N)=O)c(Nc2ccn...   8.05   \n",
       "643   [C-]#[N+]C1CCCCC1n1cc(C(N)=O)c(Nc2ccc(CC(=O)O)...   6.96   \n",
       "889   [C-]#[N+]C1CCCCC1n1cc(C(N)=O)c(Nc2ccc(CC(=O)O)...   7.31   \n",
       "\n",
       "                                                   mol  num_atoms     logP  \n",
       "1128  <rdkit.Chem.rdchem.Mol object at 0x7f59a2952500>         27  3.16088  \n",
       "1517  <rdkit.Chem.rdchem.Mol object at 0x7f59a295d0e0>         27  3.16088  \n",
       "1889  <rdkit.Chem.rdchem.Mol object at 0x7f59a29674c0>         24  2.05260  \n",
       "1865  <rdkit.Chem.rdchem.Mol object at 0x7f59a2966a40>         24  2.05260  \n",
       "162   <rdkit.Chem.rdchem.Mol object at 0x7f59a31dfa70>         29  3.01180  \n",
       "...                                                ...        ...      ...  \n",
       "757   <rdkit.Chem.rdchem.Mol object at 0x7f59a2948190>         29  3.06779  \n",
       "569   <rdkit.Chem.rdchem.Mol object at 0x7f59a2942e30>         29  3.06779  \n",
       "1419  <rdkit.Chem.rdchem.Mol object at 0x7f59a295a570>         29  3.06779  \n",
       "643   <rdkit.Chem.rdchem.Mol object at 0x7f59a2944f20>         27  2.75569  \n",
       "889   <rdkit.Chem.rdchem.Mol object at 0x7f59a294bb50>         27  2.75569  \n",
       "\n",
       "[393 rows x 5 columns]"
      ]
     },
     "execution_count": 13,
     "metadata": {},
     "output_type": "execute_result"
    }
   ],
   "source": [
    "# duplicates = df[df.duplicated(subset=['SMILES'], keep=False)].drop('mol', axis=1)\n",
    "duplicates = df[df.duplicated(subset=['SMILES'], keep=False)]\n",
    "duplicates_sorted = duplicates.sort_values(by='SMILES')\n",
    "print(f\"Кол-во неуникальных SMILES: {duplicates_sorted['SMILES'].unique().shape[0]}\")\n",
    "duplicates_sorted"
   ]
  },
  {
   "cell_type": "markdown",
   "id": "3dc9a833-386e-4c60-a286-c59e5f52ca16",
   "metadata": {},
   "source": [
    "Всего в этой таблице 395 вещств, имеющих дубликаты SMILES с другими значениями в остальных столбцах\n",
    "\n",
    "Давайте посмотрим, какие значения различаются в этих столбцах"
   ]
  },
  {
   "cell_type": "code",
   "execution_count": 14,
   "id": "0eaf55c4-ca7d-456d-80f5-e62a1104af0b",
   "metadata": {},
   "outputs": [
    {
     "name": "stdout",
     "output_type": "stream",
     "text": [
      "SMILES с противоречиями в pIC50: 153\n",
      "SMILES с противоречиями в num_atoms: 0\n",
      "SMILES с противоречиями в logP: 0\n",
      "SMILES с противоречиями в mol: 179\n"
     ]
    },
    {
     "data": {
      "text/html": [
       "<div>\n",
       "<style scoped>\n",
       "    .dataframe tbody tr th:only-of-type {\n",
       "        vertical-align: middle;\n",
       "    }\n",
       "\n",
       "    .dataframe tbody tr th {\n",
       "        vertical-align: top;\n",
       "    }\n",
       "\n",
       "    .dataframe thead th {\n",
       "        text-align: right;\n",
       "    }\n",
       "</style>\n",
       "<table border=\"1\" class=\"dataframe\">\n",
       "  <thead>\n",
       "    <tr style=\"text-align: right;\">\n",
       "      <th></th>\n",
       "      <th>SMILES</th>\n",
       "      <th>pIC50</th>\n",
       "      <th>num_atoms</th>\n",
       "      <th>logP</th>\n",
       "      <th>mol</th>\n",
       "    </tr>\n",
       "  </thead>\n",
       "  <tbody>\n",
       "    <tr>\n",
       "      <th>0</th>\n",
       "      <td>C=CC1(O)CCC(n2cc(C(N)=O)c(Nc3ccc(Cl)cc3)n2)C(C...</td>\n",
       "      <td>2</td>\n",
       "      <td>1</td>\n",
       "      <td>1</td>\n",
       "      <td>2</td>\n",
       "    </tr>\n",
       "    <tr>\n",
       "      <th>1</th>\n",
       "      <td>CC(=O)N1CCC(Nc2ncccc2-c2cnc3[nH]ccc3n2)C1</td>\n",
       "      <td>2</td>\n",
       "      <td>1</td>\n",
       "      <td>1</td>\n",
       "      <td>2</td>\n",
       "    </tr>\n",
       "    <tr>\n",
       "      <th>2</th>\n",
       "      <td>CC(=O)NC1CCc2ccc(Oc3cnc4[nH]cc(C(=O)NC(C)C)c4n...</td>\n",
       "      <td>2</td>\n",
       "      <td>1</td>\n",
       "      <td>1</td>\n",
       "      <td>2</td>\n",
       "    </tr>\n",
       "    <tr>\n",
       "      <th>3</th>\n",
       "      <td>CC(=O)c1ccc(Nc2nn(C3CCC(N4CCC4)CC3C#N)cc2C(N)=...</td>\n",
       "      <td>2</td>\n",
       "      <td>1</td>\n",
       "      <td>1</td>\n",
       "      <td>2</td>\n",
       "    </tr>\n",
       "    <tr>\n",
       "      <th>4</th>\n",
       "      <td>CC(C)(C(=O)O)c1ccc(Nc2nn(C3CCC(N4CCC4)CC3C#N)c...</td>\n",
       "      <td>2</td>\n",
       "      <td>1</td>\n",
       "      <td>1</td>\n",
       "      <td>2</td>\n",
       "    </tr>\n",
       "    <tr>\n",
       "      <th>...</th>\n",
       "      <td>...</td>\n",
       "      <td>...</td>\n",
       "      <td>...</td>\n",
       "      <td>...</td>\n",
       "      <td>...</td>\n",
       "    </tr>\n",
       "    <tr>\n",
       "      <th>174</th>\n",
       "      <td>O=[N+]([O-])c1ccc(O)c([N+](=O)[O-])c1</td>\n",
       "      <td>1</td>\n",
       "      <td>1</td>\n",
       "      <td>1</td>\n",
       "      <td>2</td>\n",
       "    </tr>\n",
       "    <tr>\n",
       "      <th>175</th>\n",
       "      <td>O=c1[nH]c2cnc(-n3cnc4ccccc43)nc2n1C1CCOc2c(F)c...</td>\n",
       "      <td>3</td>\n",
       "      <td>1</td>\n",
       "      <td>1</td>\n",
       "      <td>3</td>\n",
       "    </tr>\n",
       "    <tr>\n",
       "      <th>176</th>\n",
       "      <td>[C-]#[N+]C1CC(N2CCC2)CCC1n1cc(Nc2ccc(OC(F)F)nc...</td>\n",
       "      <td>2</td>\n",
       "      <td>1</td>\n",
       "      <td>1</td>\n",
       "      <td>2</td>\n",
       "    </tr>\n",
       "    <tr>\n",
       "      <th>177</th>\n",
       "      <td>[C-]#[N+]C1CC(OCC2CC2)CCC1n1cc(C(N)=O)c(Nc2ccn...</td>\n",
       "      <td>3</td>\n",
       "      <td>1</td>\n",
       "      <td>1</td>\n",
       "      <td>3</td>\n",
       "    </tr>\n",
       "    <tr>\n",
       "      <th>178</th>\n",
       "      <td>[C-]#[N+]C1CCCCC1n1cc(C(N)=O)c(Nc2ccc(CC(=O)O)...</td>\n",
       "      <td>2</td>\n",
       "      <td>1</td>\n",
       "      <td>1</td>\n",
       "      <td>2</td>\n",
       "    </tr>\n",
       "  </tbody>\n",
       "</table>\n",
       "<p>179 rows × 5 columns</p>\n",
       "</div>"
      ],
      "text/plain": [
       "                                                SMILES  pIC50  num_atoms  \\\n",
       "0    C=CC1(O)CCC(n2cc(C(N)=O)c(Nc3ccc(Cl)cc3)n2)C(C...      2          1   \n",
       "1            CC(=O)N1CCC(Nc2ncccc2-c2cnc3[nH]ccc3n2)C1      2          1   \n",
       "2    CC(=O)NC1CCc2ccc(Oc3cnc4[nH]cc(C(=O)NC(C)C)c4n...      2          1   \n",
       "3    CC(=O)c1ccc(Nc2nn(C3CCC(N4CCC4)CC3C#N)cc2C(N)=...      2          1   \n",
       "4    CC(C)(C(=O)O)c1ccc(Nc2nn(C3CCC(N4CCC4)CC3C#N)c...      2          1   \n",
       "..                                                 ...    ...        ...   \n",
       "174              O=[N+]([O-])c1ccc(O)c([N+](=O)[O-])c1      1          1   \n",
       "175  O=c1[nH]c2cnc(-n3cnc4ccccc43)nc2n1C1CCOc2c(F)c...      3          1   \n",
       "176  [C-]#[N+]C1CC(N2CCC2)CCC1n1cc(Nc2ccc(OC(F)F)nc...      2          1   \n",
       "177  [C-]#[N+]C1CC(OCC2CC2)CCC1n1cc(C(N)=O)c(Nc2ccn...      3          1   \n",
       "178  [C-]#[N+]C1CCCCC1n1cc(C(N)=O)c(Nc2ccc(CC(=O)O)...      2          1   \n",
       "\n",
       "     logP  mol  \n",
       "0       1    2  \n",
       "1       1    2  \n",
       "2       1    2  \n",
       "3       1    2  \n",
       "4       1    2  \n",
       "..    ...  ...  \n",
       "174     1    2  \n",
       "175     1    3  \n",
       "176     1    2  \n",
       "177     1    3  \n",
       "178     1    2  \n",
       "\n",
       "[179 rows x 5 columns]"
      ]
     },
     "execution_count": 14,
     "metadata": {},
     "output_type": "execute_result"
    }
   ],
   "source": [
    "# Группировка и подсчет кол-ва различий в каждом столбце для каждого SMILES\n",
    "grouped = duplicates.groupby('SMILES').agg({\n",
    "    'pIC50': 'nunique',\n",
    "    'num_atoms': 'nunique',\n",
    "    'logP': 'nunique',\n",
    "    'mol' : 'nunique'\n",
    "}).reset_index()\n",
    "\n",
    "conflicts = {\n",
    "    'pIC50': grouped[grouped['pIC50'] > 1],\n",
    "    'num_atoms': grouped[grouped['num_atoms'] > 1],\n",
    "    'logP': grouped[grouped['logP'] > 1],\n",
    "    'mol': grouped[grouped['mol'] > 1],\n",
    "    # 'other': grouped[grouped['pIC50'] == 1 & grouped['num_atoms'] == 1 & grouped['logP'] == 1 & grouped['mol'] == 1],\n",
    "}\n",
    "\n",
    "print(f\"SMILES с противоречиями в pIC50: {conflicts['pIC50'].shape[0]}\")\n",
    "print(f\"SMILES с противоречиями в num_atoms: {conflicts['num_atoms'].shape[0]}\")\n",
    "print(f\"SMILES с противоречиями в logP: {conflicts['logP'].shape[0]}\")\n",
    "print(f\"SMILES с противоречиями в mol: {conflicts['mol'].shape[0]}\")\n",
    "grouped"
   ]
  },
  {
   "cell_type": "markdown",
   "id": "9049e3d2-fea9-406f-9162-ca8a8655b6ae",
   "metadata": {},
   "source": [
    "Из последнего следует, что есть такие молекулы, у которых все свойства совпадают, кроме адреса в библиотеке RdKit и значения pIC50 (т.е. в данных нет таких дубликатов веществ, где было бы отличие в num_atoms и logP )"
   ]
  },
  {
   "cell_type": "code",
   "execution_count": 15,
   "id": "99132d4c-fb1a-4638-b5f6-4d07f3f6e794",
   "metadata": {},
   "outputs": [
    {
     "data": {
      "text/plain": [
       "(29, 5)"
      ]
     },
     "execution_count": 15,
     "metadata": {},
     "output_type": "execute_result"
    }
   ],
   "source": [
    "grouped[grouped['mol'] > grouped['pIC50']].shape"
   ]
  },
  {
   "cell_type": "code",
   "execution_count": 16,
   "id": "3a941783-9c38-46d4-a123-ac8ef021c07d",
   "metadata": {},
   "outputs": [
    {
     "data": {
      "text/html": [
       "<div>\n",
       "<style scoped>\n",
       "    .dataframe tbody tr th:only-of-type {\n",
       "        vertical-align: middle;\n",
       "    }\n",
       "\n",
       "    .dataframe tbody tr th {\n",
       "        vertical-align: top;\n",
       "    }\n",
       "\n",
       "    .dataframe thead th {\n",
       "        text-align: right;\n",
       "    }\n",
       "</style>\n",
       "<table border=\"1\" class=\"dataframe\">\n",
       "  <thead>\n",
       "    <tr style=\"text-align: right;\">\n",
       "      <th></th>\n",
       "      <th>SMILES</th>\n",
       "      <th>pIC50</th>\n",
       "      <th>mol</th>\n",
       "      <th>num_atoms</th>\n",
       "      <th>logP</th>\n",
       "    </tr>\n",
       "  </thead>\n",
       "  <tbody>\n",
       "  </tbody>\n",
       "</table>\n",
       "</div>"
      ],
      "text/plain": [
       "Empty DataFrame\n",
       "Columns: [SMILES, pIC50, mol, num_atoms, logP]\n",
       "Index: []"
      ]
     },
     "execution_count": 16,
     "metadata": {},
     "output_type": "execute_result"
    }
   ],
   "source": [
    "df[df['SMILES'] == 'O=C(O)CNCP(=O)(O)O']"
   ]
  },
  {
   "cell_type": "markdown",
   "id": "9cc63750-4435-4946-a541-b39998b51594",
   "metadata": {},
   "source": [
    "29 SMILES, где отличается только столбец mol"
   ]
  },
  {
   "cell_type": "code",
   "execution_count": 17,
   "id": "04305844-8a0c-4baf-868a-4929747c7972",
   "metadata": {},
   "outputs": [
    {
     "data": {
      "text/html": [
       "<div>\n",
       "<style scoped>\n",
       "    .dataframe tbody tr th:only-of-type {\n",
       "        vertical-align: middle;\n",
       "    }\n",
       "\n",
       "    .dataframe tbody tr th {\n",
       "        vertical-align: top;\n",
       "    }\n",
       "\n",
       "    .dataframe thead th {\n",
       "        text-align: right;\n",
       "    }\n",
       "</style>\n",
       "<table border=\"1\" class=\"dataframe\">\n",
       "  <thead>\n",
       "    <tr style=\"text-align: right;\">\n",
       "      <th></th>\n",
       "      <th>SMILES</th>\n",
       "      <th>pIC50</th>\n",
       "      <th>mol</th>\n",
       "      <th>num_atoms</th>\n",
       "      <th>logP</th>\n",
       "    </tr>\n",
       "  </thead>\n",
       "  <tbody>\n",
       "    <tr>\n",
       "      <th>3479</th>\n",
       "      <td>CCCC(=O)O</td>\n",
       "      <td>0.13</td>\n",
       "      <td>&lt;rdkit.Chem.rdchem.Mol object at 0x7f59a2993290&gt;</td>\n",
       "      <td>6</td>\n",
       "      <td>0.8711</td>\n",
       "    </tr>\n",
       "    <tr>\n",
       "      <th>2966</th>\n",
       "      <td>CCCC(=O)O</td>\n",
       "      <td>0.13</td>\n",
       "      <td>&lt;rdkit.Chem.rdchem.Mol object at 0x7f59a2985070&gt;</td>\n",
       "      <td>6</td>\n",
       "      <td>0.8711</td>\n",
       "    </tr>\n",
       "  </tbody>\n",
       "</table>\n",
       "</div>"
      ],
      "text/plain": [
       "         SMILES  pIC50                                               mol  \\\n",
       "3479  CCCC(=O)O   0.13  <rdkit.Chem.rdchem.Mol object at 0x7f59a2993290>   \n",
       "2966  CCCC(=O)O   0.13  <rdkit.Chem.rdchem.Mol object at 0x7f59a2985070>   \n",
       "\n",
       "      num_atoms    logP  \n",
       "3479          6  0.8711  \n",
       "2966          6  0.8711  "
      ]
     },
     "execution_count": 17,
     "metadata": {},
     "output_type": "execute_result"
    }
   ],
   "source": [
    "# Тут совпадает все, кроме значений в столбце 'mol'\n",
    "duplicates_sorted[duplicates_sorted['SMILES'] == 'CCCC(=O)O']"
   ]
  },
  {
   "cell_type": "code",
   "execution_count": null,
   "id": "bb8d8078-c2bb-4431-bb9b-4290cd65e17a",
   "metadata": {},
   "outputs": [],
   "source": []
  },
  {
   "cell_type": "markdown",
   "id": "d44a7e88-c5c4-4405-a76f-eb852791970d",
   "metadata": {},
   "source": [
    "Удалим дубликаты, где отличается только столбец mol"
   ]
  },
  {
   "cell_type": "code",
   "execution_count": 18,
   "id": "67516aed-9be7-4c31-b2be-bb4cf2af17a0",
   "metadata": {},
   "outputs": [],
   "source": [
    "drop_df = df.drop_duplicates(subset=['SMILES', 'pIC50'], keep='first')"
   ]
  },
  {
   "cell_type": "code",
   "execution_count": 19,
   "id": "8ec7d78f-97d0-4081-8dec-bad4cfa733a0",
   "metadata": {},
   "outputs": [],
   "source": [
    "undrop_df = df\n",
    "df = drop_df"
   ]
  },
  {
   "cell_type": "code",
   "execution_count": null,
   "id": "cd43b0f2-d6c2-420b-868a-e36c39414234",
   "metadata": {},
   "outputs": [],
   "source": []
  },
  {
   "cell_type": "code",
   "execution_count": null,
   "id": "548c631c-544c-4cfb-8e46-e73d0d333808",
   "metadata": {},
   "outputs": [],
   "source": [
    "# df.to_csv('../data/data_withMissFlag_fill-999_and_duplicates.csv', index=False)"
   ]
  },
  {
   "cell_type": "code",
   "execution_count": 21,
   "id": "cd8cd90c-93de-42f1-b922-f437e18b4059",
   "metadata": {},
   "outputs": [],
   "source": [
    "df.to_csv('data/data_withDropNA_and_duplicates.csv', index=False)"
   ]
  },
  {
   "cell_type": "code",
   "execution_count": null,
   "id": "ef3728fc-d56a-4b88-9653-bbc079a7b0a1",
   "metadata": {},
   "outputs": [],
   "source": []
  },
  {
   "cell_type": "code",
   "execution_count": null,
   "id": "9dc77809-cadf-424f-8255-bf604677da77",
   "metadata": {},
   "outputs": [],
   "source": []
  },
  {
   "cell_type": "markdown",
   "id": "c98ab62a-d55f-4b2f-a70c-40dc57773144",
   "metadata": {},
   "source": [
    "---"
   ]
  },
  {
   "cell_type": "markdown",
   "id": "a0c5e9e3-1754-464e-ae8f-39d9a0e4cffc",
   "metadata": {},
   "source": [
    "### Преобразование данных\n",
    "\n",
    "Добавим численные значение из библиотеки RDKit"
   ]
  },
  {
   "cell_type": "code",
   "execution_count": 1,
   "id": "6115ee48-e0ff-4ea5-8ad7-7c521cc575ee",
   "metadata": {},
   "outputs": [],
   "source": [
    "import pandas as pd\n",
    "import numpy as np\n",
    "import matplotlib.pyplot as plt\n",
    "import seaborn as sns"
   ]
  },
  {
   "cell_type": "code",
   "execution_count": 2,
   "id": "b38c17ee-655b-4acc-91c3-d35cfb709f12",
   "metadata": {},
   "outputs": [],
   "source": [
    "from rdkit import Chem\n",
    "from rdkit.Chem import Descriptors, rdMolDescriptors\n",
    "from mordred import Calculator, descriptors"
   ]
  },
  {
   "cell_type": "code",
   "execution_count": 3,
   "id": "a5bec2a3",
   "metadata": {},
   "outputs": [],
   "source": [
    "from sklearn.cluster import KMeans\n",
    "from sklearn.preprocessing import StandardScaler"
   ]
  },
  {
   "cell_type": "code",
   "execution_count": 4,
   "id": "e49b691c",
   "metadata": {},
   "outputs": [],
   "source": [
    "from sklearn.metrics import silhouette_score\n",
    "from sklearn.metrics import davies_bouldin_score\n",
    "from sklearn.metrics import calinski_harabasz_score"
   ]
  },
  {
   "cell_type": "code",
   "execution_count": 5,
   "id": "4b90b2db-c6c5-4357-82e9-0840023489e9",
   "metadata": {},
   "outputs": [],
   "source": [
    "def chunk_read_csv(file_path : str, chunk_size: int):\n",
    "    df = pd.DataFrame()\n",
    "    with pd.read_csv(file_path, chunksize=chunk_size) as reader:\n",
    "        df = pd.concat(reader)\n",
    "    return df"
   ]
  },
  {
   "cell_type": "code",
   "execution_count": 9,
   "id": "a301de33-731a-489c-9f7b-0dfe65738311",
   "metadata": {},
   "outputs": [
    {
     "data": {
      "text/html": [
       "<div>\n",
       "<style scoped>\n",
       "    .dataframe tbody tr th:only-of-type {\n",
       "        vertical-align: middle;\n",
       "    }\n",
       "\n",
       "    .dataframe tbody tr th {\n",
       "        vertical-align: top;\n",
       "    }\n",
       "\n",
       "    .dataframe thead th {\n",
       "        text-align: right;\n",
       "    }\n",
       "</style>\n",
       "<table border=\"1\" class=\"dataframe\">\n",
       "  <thead>\n",
       "    <tr style=\"text-align: right;\">\n",
       "      <th></th>\n",
       "      <th>SMILES</th>\n",
       "      <th>pIC50</th>\n",
       "      <th>mol</th>\n",
       "      <th>num_atoms</th>\n",
       "      <th>logP</th>\n",
       "    </tr>\n",
       "  </thead>\n",
       "  <tbody>\n",
       "    <tr>\n",
       "      <th>0</th>\n",
       "      <td>O=S(=O)(Nc1cccc(-c2cnc3ccccc3n2)c1)c1cccs1</td>\n",
       "      <td>4.26</td>\n",
       "      <td>&lt;rdkit.Chem.rdchem.Mol object at 0x7f59df45bc30&gt;</td>\n",
       "      <td>25</td>\n",
       "      <td>4.15910</td>\n",
       "    </tr>\n",
       "    <tr>\n",
       "      <th>1</th>\n",
       "      <td>O=c1cc(-c2nc(-c3ccc(-c4cn(CCP(=O)(O)O)nn4)cc3)...</td>\n",
       "      <td>4.34</td>\n",
       "      <td>&lt;rdkit.Chem.rdchem.Mol object at 0x7f59a320c9e0&gt;</td>\n",
       "      <td>36</td>\n",
       "      <td>3.67430</td>\n",
       "    </tr>\n",
       "    <tr>\n",
       "      <th>2</th>\n",
       "      <td>NC(=O)c1ccc2c(c1)nc(C1CCC(O)CC1)n2CCCO</td>\n",
       "      <td>4.53</td>\n",
       "      <td>&lt;rdkit.Chem.rdchem.Mol object at 0x7f59a320cac0&gt;</td>\n",
       "      <td>23</td>\n",
       "      <td>1.53610</td>\n",
       "    </tr>\n",
       "    <tr>\n",
       "      <th>3</th>\n",
       "      <td>NCCCn1c(C2CCNCC2)nc2cc(C(N)=O)ccc21</td>\n",
       "      <td>4.56</td>\n",
       "      <td>&lt;rdkit.Chem.rdchem.Mol object at 0x7f59a320cba0&gt;</td>\n",
       "      <td>22</td>\n",
       "      <td>0.95100</td>\n",
       "    </tr>\n",
       "    <tr>\n",
       "      <th>4</th>\n",
       "      <td>CNC(=S)Nc1cccc(-c2cnc3ccccc3n2)c1</td>\n",
       "      <td>4.59</td>\n",
       "      <td>&lt;rdkit.Chem.rdchem.Mol object at 0x7f59a320c7b0&gt;</td>\n",
       "      <td>21</td>\n",
       "      <td>3.21300</td>\n",
       "    </tr>\n",
       "    <tr>\n",
       "      <th>...</th>\n",
       "      <td>...</td>\n",
       "      <td>...</td>\n",
       "      <td>...</td>\n",
       "      <td>...</td>\n",
       "      <td>...</td>\n",
       "    </tr>\n",
       "    <tr>\n",
       "      <th>15000</th>\n",
       "      <td>S=C(NN=C(c1ccccn1)c1ccccn1)Nc1ccccc1</td>\n",
       "      <td>0.00</td>\n",
       "      <td>&lt;rdkit.Chem.rdchem.Mol object at 0x7f59a314ed50&gt;</td>\n",
       "      <td>24</td>\n",
       "      <td>3.21560</td>\n",
       "    </tr>\n",
       "    <tr>\n",
       "      <th>15001</th>\n",
       "      <td>S=C=NCCCCCCCCCCc1ccccc1</td>\n",
       "      <td>0.00</td>\n",
       "      <td>&lt;rdkit.Chem.rdchem.Mol object at 0x7f59a314edc0&gt;</td>\n",
       "      <td>19</td>\n",
       "      <td>5.45270</td>\n",
       "    </tr>\n",
       "    <tr>\n",
       "      <th>15002</th>\n",
       "      <td>S=C=NCCCCCCCCc1ccccc1</td>\n",
       "      <td>0.00</td>\n",
       "      <td>&lt;rdkit.Chem.rdchem.Mol object at 0x7f59a314ee30&gt;</td>\n",
       "      <td>17</td>\n",
       "      <td>4.67250</td>\n",
       "    </tr>\n",
       "    <tr>\n",
       "      <th>15003</th>\n",
       "      <td>S=c1[nH]nc(Cn2ccc3ccccc32)n1-c1ccccc1</td>\n",
       "      <td>0.00</td>\n",
       "      <td>&lt;rdkit.Chem.rdchem.Mol object at 0x7f59a314eea0&gt;</td>\n",
       "      <td>22</td>\n",
       "      <td>3.93289</td>\n",
       "    </tr>\n",
       "    <tr>\n",
       "      <th>15004</th>\n",
       "      <td>N=[N+]=NC=Cc1ccc([N+](=O)[O-])o1</td>\n",
       "      <td>0.02</td>\n",
       "      <td>&lt;rdkit.Chem.rdchem.Mol object at 0x7f59a314ef10&gt;</td>\n",
       "      <td>13</td>\n",
       "      <td>1.70887</td>\n",
       "    </tr>\n",
       "  </tbody>\n",
       "</table>\n",
       "<p>15005 rows × 5 columns</p>\n",
       "</div>"
      ],
      "text/plain": [
       "                                                  SMILES  pIC50  \\\n",
       "0             O=S(=O)(Nc1cccc(-c2cnc3ccccc3n2)c1)c1cccs1   4.26   \n",
       "1      O=c1cc(-c2nc(-c3ccc(-c4cn(CCP(=O)(O)O)nn4)cc3)...   4.34   \n",
       "2                 NC(=O)c1ccc2c(c1)nc(C1CCC(O)CC1)n2CCCO   4.53   \n",
       "3                    NCCCn1c(C2CCNCC2)nc2cc(C(N)=O)ccc21   4.56   \n",
       "4                      CNC(=S)Nc1cccc(-c2cnc3ccccc3n2)c1   4.59   \n",
       "...                                                  ...    ...   \n",
       "15000               S=C(NN=C(c1ccccn1)c1ccccn1)Nc1ccccc1   0.00   \n",
       "15001                            S=C=NCCCCCCCCCCc1ccccc1   0.00   \n",
       "15002                              S=C=NCCCCCCCCc1ccccc1   0.00   \n",
       "15003              S=c1[nH]nc(Cn2ccc3ccccc32)n1-c1ccccc1   0.00   \n",
       "15004                   N=[N+]=NC=Cc1ccc([N+](=O)[O-])o1   0.02   \n",
       "\n",
       "                                                    mol  num_atoms     logP  \n",
       "0      <rdkit.Chem.rdchem.Mol object at 0x7f59df45bc30>         25  4.15910  \n",
       "1      <rdkit.Chem.rdchem.Mol object at 0x7f59a320c9e0>         36  3.67430  \n",
       "2      <rdkit.Chem.rdchem.Mol object at 0x7f59a320cac0>         23  1.53610  \n",
       "3      <rdkit.Chem.rdchem.Mol object at 0x7f59a320cba0>         22  0.95100  \n",
       "4      <rdkit.Chem.rdchem.Mol object at 0x7f59a320c7b0>         21  3.21300  \n",
       "...                                                 ...        ...      ...  \n",
       "15000  <rdkit.Chem.rdchem.Mol object at 0x7f59a314ed50>         24  3.21560  \n",
       "15001  <rdkit.Chem.rdchem.Mol object at 0x7f59a314edc0>         19  5.45270  \n",
       "15002  <rdkit.Chem.rdchem.Mol object at 0x7f59a314ee30>         17  4.67250  \n",
       "15003  <rdkit.Chem.rdchem.Mol object at 0x7f59a314eea0>         22  3.93289  \n",
       "15004  <rdkit.Chem.rdchem.Mol object at 0x7f59a314ef10>         13  1.70887  \n",
       "\n",
       "[15005 rows x 5 columns]"
      ]
     },
     "execution_count": 9,
     "metadata": {},
     "output_type": "execute_result"
    }
   ],
   "source": [
    "# Загрузка таблицы\n",
    "# file_path = '../data/data_withMissFlag_fill-999_and_duplicates.csv'\n",
    "file_path = '../data/data_withDropNA_and_duplicates.csv'\n",
    "df = chunk_read_csv(file_path, chunk_size=200)\n",
    "df"
   ]
  },
  {
   "cell_type": "code",
   "execution_count": 10,
   "id": "6261d8b9-df8b-4ee2-a5ff-299e3b395fe9",
   "metadata": {},
   "outputs": [],
   "source": [
    "# Преобразование SMILES в RDKit Mol объекты\n",
    "df[\"nmol\"]            = df[\"SMILES\"].apply(Chem.MolFromSmiles)\n",
    "df[\"MolecularWeight\"] = df[\"nmol\"].apply(lambda mol: Descriptors.MolWt(mol))\n",
    "df[\"HBD\"]             = df[\"nmol\"].apply(lambda mol: rdMolDescriptors.CalcNumHBD(mol))\n",
    "df[\"HBA\"]             = df[\"nmol\"].apply(lambda mol: rdMolDescriptors.CalcNumHBA(mol))\n",
    "df[\"TPSA\"]            = df[\"nmol\"].apply(lambda mol: Descriptors.TPSA(mol))\n",
    "df[\"RotatableBonds\"]  = df[\"nmol\"].apply(lambda mol: Descriptors.NumRotatableBonds(mol))\n",
    "df[\"NumRings\"]        = df[\"nmol\"].apply(lambda mol: Descriptors.RingCount(mol))"
   ]
  },
  {
   "cell_type": "code",
   "execution_count": 11,
   "id": "7ad82616-b095-47ac-b196-3e11ee058050",
   "metadata": {},
   "outputs": [
    {
     "data": {
      "text/html": [
       "<div>\n",
       "<style scoped>\n",
       "    .dataframe tbody tr th:only-of-type {\n",
       "        vertical-align: middle;\n",
       "    }\n",
       "\n",
       "    .dataframe tbody tr th {\n",
       "        vertical-align: top;\n",
       "    }\n",
       "\n",
       "    .dataframe thead th {\n",
       "        text-align: right;\n",
       "    }\n",
       "</style>\n",
       "<table border=\"1\" class=\"dataframe\">\n",
       "  <thead>\n",
       "    <tr style=\"text-align: right;\">\n",
       "      <th></th>\n",
       "      <th>SMILES</th>\n",
       "      <th>pIC50</th>\n",
       "      <th>mol</th>\n",
       "      <th>num_atoms</th>\n",
       "      <th>logP</th>\n",
       "      <th>nmol</th>\n",
       "      <th>MolecularWeight</th>\n",
       "      <th>HBD</th>\n",
       "      <th>HBA</th>\n",
       "      <th>TPSA</th>\n",
       "      <th>RotatableBonds</th>\n",
       "      <th>NumRings</th>\n",
       "    </tr>\n",
       "  </thead>\n",
       "  <tbody>\n",
       "    <tr>\n",
       "      <th>0</th>\n",
       "      <td>O=S(=O)(Nc1cccc(-c2cnc3ccccc3n2)c1)c1cccs1</td>\n",
       "      <td>4.26</td>\n",
       "      <td>&lt;rdkit.Chem.rdchem.Mol object at 0x7f59df45bc30&gt;</td>\n",
       "      <td>25</td>\n",
       "      <td>4.1591</td>\n",
       "      <td>&lt;rdkit.Chem.rdchem.Mol object at 0x000001A3A7F...</td>\n",
       "      <td>367.455</td>\n",
       "      <td>1</td>\n",
       "      <td>5</td>\n",
       "      <td>71.95</td>\n",
       "      <td>4</td>\n",
       "      <td>4</td>\n",
       "    </tr>\n",
       "    <tr>\n",
       "      <th>1</th>\n",
       "      <td>O=c1cc(-c2nc(-c3ccc(-c4cn(CCP(=O)(O)O)nn4)cc3)...</td>\n",
       "      <td>4.34</td>\n",
       "      <td>&lt;rdkit.Chem.rdchem.Mol object at 0x7f59a320c9e0&gt;</td>\n",
       "      <td>36</td>\n",
       "      <td>3.6743</td>\n",
       "      <td>&lt;rdkit.Chem.rdchem.Mol object at 0x000001A3A7F...</td>\n",
       "      <td>506.434</td>\n",
       "      <td>4</td>\n",
       "      <td>6</td>\n",
       "      <td>149.78</td>\n",
       "      <td>7</td>\n",
       "      <td>5</td>\n",
       "    </tr>\n",
       "    <tr>\n",
       "      <th>2</th>\n",
       "      <td>NC(=O)c1ccc2c(c1)nc(C1CCC(O)CC1)n2CCCO</td>\n",
       "      <td>4.53</td>\n",
       "      <td>&lt;rdkit.Chem.rdchem.Mol object at 0x7f59a320cac0&gt;</td>\n",
       "      <td>23</td>\n",
       "      <td>1.5361</td>\n",
       "      <td>&lt;rdkit.Chem.rdchem.Mol object at 0x000001A3A7F...</td>\n",
       "      <td>317.389</td>\n",
       "      <td>3</td>\n",
       "      <td>5</td>\n",
       "      <td>101.37</td>\n",
       "      <td>5</td>\n",
       "      <td>3</td>\n",
       "    </tr>\n",
       "    <tr>\n",
       "      <th>3</th>\n",
       "      <td>NCCCn1c(C2CCNCC2)nc2cc(C(N)=O)ccc21</td>\n",
       "      <td>4.56</td>\n",
       "      <td>&lt;rdkit.Chem.rdchem.Mol object at 0x7f59a320cba0&gt;</td>\n",
       "      <td>22</td>\n",
       "      <td>0.9510</td>\n",
       "      <td>&lt;rdkit.Chem.rdchem.Mol object at 0x000001A3A7F...</td>\n",
       "      <td>301.394</td>\n",
       "      <td>3</td>\n",
       "      <td>5</td>\n",
       "      <td>98.96</td>\n",
       "      <td>5</td>\n",
       "      <td>3</td>\n",
       "    </tr>\n",
       "    <tr>\n",
       "      <th>4</th>\n",
       "      <td>CNC(=S)Nc1cccc(-c2cnc3ccccc3n2)c1</td>\n",
       "      <td>4.59</td>\n",
       "      <td>&lt;rdkit.Chem.rdchem.Mol object at 0x7f59a320c7b0&gt;</td>\n",
       "      <td>21</td>\n",
       "      <td>3.2130</td>\n",
       "      <td>&lt;rdkit.Chem.rdchem.Mol object at 0x000001A3A7F...</td>\n",
       "      <td>294.383</td>\n",
       "      <td>2</td>\n",
       "      <td>3</td>\n",
       "      <td>49.84</td>\n",
       "      <td>2</td>\n",
       "      <td>3</td>\n",
       "    </tr>\n",
       "  </tbody>\n",
       "</table>\n",
       "</div>"
      ],
      "text/plain": [
       "                                              SMILES  pIC50  \\\n",
       "0         O=S(=O)(Nc1cccc(-c2cnc3ccccc3n2)c1)c1cccs1   4.26   \n",
       "1  O=c1cc(-c2nc(-c3ccc(-c4cn(CCP(=O)(O)O)nn4)cc3)...   4.34   \n",
       "2             NC(=O)c1ccc2c(c1)nc(C1CCC(O)CC1)n2CCCO   4.53   \n",
       "3                NCCCn1c(C2CCNCC2)nc2cc(C(N)=O)ccc21   4.56   \n",
       "4                  CNC(=S)Nc1cccc(-c2cnc3ccccc3n2)c1   4.59   \n",
       "\n",
       "                                                mol  num_atoms    logP  \\\n",
       "0  <rdkit.Chem.rdchem.Mol object at 0x7f59df45bc30>         25  4.1591   \n",
       "1  <rdkit.Chem.rdchem.Mol object at 0x7f59a320c9e0>         36  3.6743   \n",
       "2  <rdkit.Chem.rdchem.Mol object at 0x7f59a320cac0>         23  1.5361   \n",
       "3  <rdkit.Chem.rdchem.Mol object at 0x7f59a320cba0>         22  0.9510   \n",
       "4  <rdkit.Chem.rdchem.Mol object at 0x7f59a320c7b0>         21  3.2130   \n",
       "\n",
       "                                                nmol  MolecularWeight  HBD  \\\n",
       "0  <rdkit.Chem.rdchem.Mol object at 0x000001A3A7F...          367.455    1   \n",
       "1  <rdkit.Chem.rdchem.Mol object at 0x000001A3A7F...          506.434    4   \n",
       "2  <rdkit.Chem.rdchem.Mol object at 0x000001A3A7F...          317.389    3   \n",
       "3  <rdkit.Chem.rdchem.Mol object at 0x000001A3A7F...          301.394    3   \n",
       "4  <rdkit.Chem.rdchem.Mol object at 0x000001A3A7F...          294.383    2   \n",
       "\n",
       "   HBA    TPSA  RotatableBonds  NumRings  \n",
       "0    5   71.95               4         4  \n",
       "1    6  149.78               7         5  \n",
       "2    5  101.37               5         3  \n",
       "3    5   98.96               5         3  \n",
       "4    3   49.84               2         3  "
      ]
     },
     "execution_count": 11,
     "metadata": {},
     "output_type": "execute_result"
    }
   ],
   "source": [
    "df.head()"
   ]
  },
  {
   "cell_type": "code",
   "execution_count": 12,
   "id": "02a46bb0-c3a1-4292-90da-0f1bdaf8f99d",
   "metadata": {},
   "outputs": [],
   "source": [
    "calc = Calculator(descriptors)"
   ]
  },
  {
   "cell_type": "code",
   "execution_count": 13,
   "id": "688289dc-c1c1-41fb-ae7d-f028f158e334",
   "metadata": {
    "scrolled": true
   },
   "outputs": [
    {
     "name": "stdout",
     "output_type": "stream",
     "text": [
      "Посчитан чанк 0 из 31, размер чанка 500\n",
      "Посчитан чанк 1 из 31, размер чанка 500\n",
      "D:\\ProgramingPrograms\\Python\\Lib\\site-packages\\numpy\\core\\fromnumeric.py:88: RuntimeWarning: overflow encountered in reduce\n",
      "  return ufunc.reduce(obj, axis, dtype, out, **passkwargs)\n",
      "Посчитан чанк 2 из 31, размер чанка 500\n",
      "D:\\ProgramingPrograms\\Python\\Lib\\site-packages\\numpy\\core\\fromnumeric.py:88: RuntimeWarning: overflow encountered in reduce\n",
      "  return ufunc.reduce(obj, axis, dtype, out, **passkwargs)\n",
      "Посчитан чанк 3 из 31, размер чанка 500\n",
      "Посчитан чанк 4 из 31, размер чанка 500\n",
      "Посчитан чанк 5 из 31, размер чанка 500\n",
      "Посчитан чанк 6 из 31, размер чанка 500\n",
      "Посчитан чанк 7 из 31, размер чанка 500\n",
      "Посчитан чанк 8 из 31, размер чанка 500\n",
      "Посчитан чанк 9 из 31, размер чанка 500\n",
      "Посчитан чанк 10 из 31, размер чанка 500\n",
      "Посчитан чанк 11 из 31, размер чанка 500\n",
      "D:\\ProgramingPrograms\\Python\\Lib\\site-packages\\numpy\\core\\fromnumeric.py:88: RuntimeWarning: overflow encountered in reduce\n",
      "  return ufunc.reduce(obj, axis, dtype, out, **passkwargs)\n",
      "D:\\ProgramingPrograms\\Python\\Lib\\site-packages\\numpy\\core\\fromnumeric.py:88: RuntimeWarning: overflow encountered in reduce\n",
      "  return ufunc.reduce(obj, axis, dtype, out, **passkwargs)\n",
      "Посчитан чанк 12 из 31, размер чанка 500\n",
      "D:\\ProgramingPrograms\\Python\\Lib\\site-packages\\numpy\\core\\fromnumeric.py:88: RuntimeWarning: overflow encountered in reduce\n",
      "  return ufunc.reduce(obj, axis, dtype, out, **passkwargs)\n",
      "D:\\ProgramingPrograms\\Python\\Lib\\site-packages\\numpy\\core\\fromnumeric.py:88: RuntimeWarning: overflow encountered in reduce\n",
      "  return ufunc.reduce(obj, axis, dtype, out, **passkwargs)\n",
      "Посчитан чанк 13 из 31, размер чанка 500\n",
      "Посчитан чанк 14 из 31, размер чанка 500\n",
      "Посчитан чанк 15 из 31, размер чанка 500\n",
      "Посчитан чанк 16 из 31, размер чанка 500\n",
      "D:\\ProgramingPrograms\\Python\\Lib\\site-packages\\numpy\\core\\fromnumeric.py:88: RuntimeWarning: overflow encountered in reduce\n",
      "  return ufunc.reduce(obj, axis, dtype, out, **passkwargs)\n",
      "Посчитан чанк 17 из 31, размер чанка 500\n",
      "D:\\ProgramingPrograms\\Python\\Lib\\site-packages\\numpy\\core\\fromnumeric.py:88: RuntimeWarning: overflow encountered in reduce\n",
      "  return ufunc.reduce(obj, axis, dtype, out, **passkwargs)\n",
      "Посчитан чанк 18 из 31, размер чанка 500\n",
      "Посчитан чанк 19 из 31, размер чанка 500\n",
      "Посчитан чанк 20 из 31, размер чанка 500\n",
      "Посчитан чанк 21 из 31, размер чанка 500\n",
      "D:\\ProgramingPrograms\\Python\\Lib\\site-packages\\numpy\\core\\fromnumeric.py:88: RuntimeWarning: overflow encountered in reduce\n",
      "  return ufunc.reduce(obj, axis, dtype, out, **passkwargs)\n",
      "Посчитан чанк 22 из 31, размер чанка 500\n",
      "D:\\ProgramingPrograms\\Python\\Lib\\site-packages\\numpy\\core\\fromnumeric.py:88: RuntimeWarning: overflow encountered in reduce\n",
      "  return ufunc.reduce(obj, axis, dtype, out, **passkwargs)\n",
      "D:\\ProgramingPrograms\\Python\\Lib\\site-packages\\numpy\\core\\fromnumeric.py:88: RuntimeWarning: overflow encountered in reduce\n",
      "  return ufunc.reduce(obj, axis, dtype, out, **passkwargs)\n",
      "D:\\ProgramingPrograms\\Python\\Lib\\site-packages\\numpy\\core\\fromnumeric.py:88: RuntimeWarning: overflow encountered in reduce\n",
      "  return ufunc.reduce(obj, axis, dtype, out, **passkwargs)\n",
      "D:\\ProgramingPrograms\\Python\\Lib\\site-packages\\numpy\\core\\fromnumeric.py:88: RuntimeWarning: overflow encountered in reduce\n",
      "  return ufunc.reduce(obj, axis, dtype, out, **passkwargs)\n",
      "D:\\ProgramingPrograms\\Python\\Lib\\site-packages\\numpy\\core\\fromnumeric.py:88: RuntimeWarning: overflow encountered in reduce\n",
      "  return ufunc.reduce(obj, axis, dtype, out, **passkwargs)\n",
      "D:\\ProgramingPrograms\\Python\\Lib\\site-packages\\numpy\\core\\fromnumeric.py:88: RuntimeWarning: overflow encountered in reduce\n",
      "  return ufunc.reduce(obj, axis, dtype, out, **passkwargs)\n",
      "Посчитан чанк 23 из 31, размер чанка 500\n",
      "D:\\ProgramingPrograms\\Python\\Lib\\site-packages\\numpy\\core\\fromnumeric.py:88: RuntimeWarning: overflow encountered in reduce\n",
      "  return ufunc.reduce(obj, axis, dtype, out, **passkwargs)\n",
      "D:\\ProgramingPrograms\\Python\\Lib\\site-packages\\numpy\\core\\fromnumeric.py:88: RuntimeWarning: overflow encountered in reduce\n",
      "  return ufunc.reduce(obj, axis, dtype, out, **passkwargs)\n",
      "D:\\ProgramingPrograms\\Python\\Lib\\site-packages\\numpy\\core\\fromnumeric.py:88: RuntimeWarning: overflow encountered in reduce\n",
      "  return ufunc.reduce(obj, axis, dtype, out, **passkwargs)\n",
      "D:\\ProgramingPrograms\\Python\\Lib\\site-packages\\numpy\\core\\fromnumeric.py:88: RuntimeWarning: overflow encountered in reduce\n",
      "  return ufunc.reduce(obj, axis, dtype, out, **passkwargs)\n",
      "D:\\ProgramingPrograms\\Python\\Lib\\site-packages\\numpy\\core\\fromnumeric.py:88: RuntimeWarning: overflow encountered in reduce\n",
      "  return ufunc.reduce(obj, axis, dtype, out, **passkwargs)\n",
      "D:\\ProgramingPrograms\\Python\\Lib\\site-packages\\numpy\\core\\fromnumeric.py:88: RuntimeWarning: overflow encountered in reduce\n",
      "  return ufunc.reduce(obj, axis, dtype, out, **passkwargs)\n",
      "Посчитан чанк 24 из 31, размер чанка 500\n",
      "Посчитан чанк 25 из 31, размер чанка 500\n",
      "D:\\ProgramingPrograms\\Python\\Lib\\site-packages\\numpy\\core\\fromnumeric.py:88: RuntimeWarning: overflow encountered in reduce\n",
      "  return ufunc.reduce(obj, axis, dtype, out, **passkwargs)\n",
      "D:\\ProgramingPrograms\\Python\\Lib\\site-packages\\numpy\\core\\fromnumeric.py:88: RuntimeWarning: overflow encountered in reduce\n",
      "  return ufunc.reduce(obj, axis, dtype, out, **passkwargs)\n",
      "D:\\ProgramingPrograms\\Python\\Lib\\site-packages\\numpy\\core\\fromnumeric.py:88: RuntimeWarning: overflow encountered in reduce\n",
      "  return ufunc.reduce(obj, axis, dtype, out, **passkwargs)\n",
      "Посчитан чанк 26 из 31, размер чанка 500\n",
      "Посчитан чанк 27 из 31, размер чанка 500\n",
      "Посчитан чанк 28 из 31, размер чанка 500\n",
      "Посчитан чанк 29 из 31, размер чанка 500\n",
      "Посчитан чанк 30 из 31, размер чанка 500\n",
      "CPU times: total: 1min 16s\n",
      "Wall time: 6min 29s\n"
     ]
    }
   ],
   "source": [
    "%%time\n",
    "\n",
    "chunk_size = 500\n",
    "num_chunks = len(df) // chunk_size + 1\n",
    "mordred_descs = []\n",
    "for i in range(0, num_chunks):\n",
    "    mordred_descs.append(calc.pandas(df.nmol[chunk_size*i : chunk_size*(i + 1)], quiet=True, ipynb=True))\n",
    "    print(f\"Посчитан чанк {i} из {num_chunks}, размер чанка {chunk_size}\")\n",
    "mordred_desc = pd.concat(mordred_descs)"
   ]
  },
  {
   "cell_type": "code",
   "execution_count": 16,
   "id": "a8c0c000-96b3-442e-a3d7-98f593f62e8f",
   "metadata": {},
   "outputs": [
    {
     "data": {
      "text/plain": [
       "(15005, 1088)"
      ]
     },
     "execution_count": 16,
     "metadata": {},
     "output_type": "execute_result"
    }
   ],
   "source": [
    "mordred_desc.shape"
   ]
  },
  {
   "cell_type": "markdown",
   "id": "a7596633-54bb-4e9e-aaea-24d76cbdba4a",
   "metadata": {},
   "source": [
    "**Преобразование типов**"
   ]
  },
  {
   "cell_type": "markdown",
   "id": "9aef1386-dc99-424a-bc22-4048c20c4da5",
   "metadata": {},
   "source": [
    "В новых данных некоторые столбцы имеют тип object, хотя в них содержаться числовые данные.\n",
    "\n",
    "Чтобы не терять эти данные преобразуем тип object к типу float и удалим столбцы, где есть пустые значения (или что-то непонятное, например, выводы ошибки при вычислении дескриптора)"
   ]
  },
  {
   "cell_type": "code",
   "execution_count": 21,
   "id": "7d5e4111-a2d1-433f-a8a9-af836b7244a6",
   "metadata": {},
   "outputs": [
    {
     "data": {
      "text/plain": [
       "(15005, 1088)"
      ]
     },
     "execution_count": 21,
     "metadata": {},
     "output_type": "execute_result"
    }
   ],
   "source": [
    "# Преобразуем проблемные столбцы\n",
    "for col in mordred_desc.columns:\n",
    "    if mordred_desc[col].dtype == object:\n",
    "        mordred_desc[col] = pd.to_numeric(mordred_desc[col], errors='coerce')\n",
    "\n",
    "# Заменяем бесконечные значения\n",
    "# df = df.replace([np.inf, -np.inf], np.nan)\n",
    "\n",
    "# Удаляем столбцы с >50% пропусков\n",
    "# mordred_des = mordred_desc.dropna(axis=1, thresh=len(mordred_desc)*0.5)\n",
    "mordred_desc = mordred_desc.dropna(axis=1)\n",
    "mordred_desc.shape"
   ]
  },
  {
   "cell_type": "code",
   "execution_count": null,
   "id": "1b7f33cb-0ac9-40b5-b0d4-2e4045c4d171",
   "metadata": {},
   "outputs": [],
   "source": []
  },
  {
   "cell_type": "code",
   "execution_count": null,
   "id": "2e4c92fe-f817-4fc4-822c-26fcd0739779",
   "metadata": {},
   "outputs": [],
   "source": []
  },
  {
   "cell_type": "code",
   "execution_count": null,
   "id": "1daa0345-6baa-4853-aa04-8e7ebc8e4d24",
   "metadata": {},
   "outputs": [],
   "source": []
  },
  {
   "cell_type": "markdown",
   "id": "97e2a1c9-a27e-4b4b-be7b-322a07189edd",
   "metadata": {},
   "source": [
    "---\n",
    "---\n",
    "---"
   ]
  },
  {
   "cell_type": "code",
   "execution_count": null,
   "id": "0350fac8-96d9-4666-8890-89f7286eb9c7",
   "metadata": {},
   "outputs": [],
   "source": []
  },
  {
   "cell_type": "code",
   "execution_count": 22,
   "id": "7a3de149-db2b-467e-9192-5e61964e873c",
   "metadata": {},
   "outputs": [],
   "source": [
    "# Сохраним дескрипторы для тестов\n",
    "mord_desc_test = mordred_desc "
   ]
  },
  {
   "cell_type": "code",
   "execution_count": 141,
   "id": "7d266192-0330-41de-9604-05f9880c3a5b",
   "metadata": {},
   "outputs": [],
   "source": [
    "mord_desc_test = pd.concat([df.drop(columns=['mol', 'nmol', 'SMILES', \"pIC50\", 'num_atoms', 'logP']), mord_desc_test], axis=1)"
   ]
  },
  {
   "cell_type": "code",
   "execution_count": 132,
   "id": "03716cb1-03d6-478a-a883-98a6615006e3",
   "metadata": {},
   "outputs": [],
   "source": [
    "# Сохраним данные со SMILES\n",
    "dft = df[['SMILES', \"pIC50\", 'num_atoms', 'logP']]"
   ]
  },
  {
   "cell_type": "code",
   "execution_count": 133,
   "id": "0329d8ff-d058-475a-b5b5-cce5fccc075c",
   "metadata": {},
   "outputs": [],
   "source": [
    "dft_values = dft.drop(columns=['SMILES'])"
   ]
  },
  {
   "cell_type": "code",
   "execution_count": 140,
   "id": "9d0183b6-b56a-49cf-88bf-9925a7ada87f",
   "metadata": {},
   "outputs": [
    {
     "data": {
      "text/html": [
       "<div>\n",
       "<style scoped>\n",
       "    .dataframe tbody tr th:only-of-type {\n",
       "        vertical-align: middle;\n",
       "    }\n",
       "\n",
       "    .dataframe tbody tr th {\n",
       "        vertical-align: top;\n",
       "    }\n",
       "\n",
       "    .dataframe thead th {\n",
       "        text-align: right;\n",
       "    }\n",
       "</style>\n",
       "<table border=\"1\" class=\"dataframe\">\n",
       "  <thead>\n",
       "    <tr style=\"text-align: right;\">\n",
       "      <th></th>\n",
       "      <th>SMILES</th>\n",
       "      <th>pIC50</th>\n",
       "      <th>num_atoms</th>\n",
       "      <th>logP</th>\n",
       "    </tr>\n",
       "  </thead>\n",
       "  <tbody>\n",
       "    <tr>\n",
       "      <th>0</th>\n",
       "      <td>O=S(=O)(Nc1cccc(-c2cnc3ccccc3n2)c1)c1cccs1</td>\n",
       "      <td>4.26</td>\n",
       "      <td>25</td>\n",
       "      <td>4.1591</td>\n",
       "    </tr>\n",
       "    <tr>\n",
       "      <th>1</th>\n",
       "      <td>O=c1cc(-c2nc(-c3ccc(-c4cn(CCP(=O)(O)O)nn4)cc3)...</td>\n",
       "      <td>4.34</td>\n",
       "      <td>36</td>\n",
       "      <td>3.6743</td>\n",
       "    </tr>\n",
       "    <tr>\n",
       "      <th>2</th>\n",
       "      <td>NC(=O)c1ccc2c(c1)nc(C1CCC(O)CC1)n2CCCO</td>\n",
       "      <td>4.53</td>\n",
       "      <td>23</td>\n",
       "      <td>1.5361</td>\n",
       "    </tr>\n",
       "    <tr>\n",
       "      <th>3</th>\n",
       "      <td>NCCCn1c(C2CCNCC2)nc2cc(C(N)=O)ccc21</td>\n",
       "      <td>4.56</td>\n",
       "      <td>22</td>\n",
       "      <td>0.9510</td>\n",
       "    </tr>\n",
       "    <tr>\n",
       "      <th>4</th>\n",
       "      <td>CNC(=S)Nc1cccc(-c2cnc3ccccc3n2)c1</td>\n",
       "      <td>4.59</td>\n",
       "      <td>21</td>\n",
       "      <td>3.2130</td>\n",
       "    </tr>\n",
       "  </tbody>\n",
       "</table>\n",
       "</div>"
      ],
      "text/plain": [
       "                                              SMILES  pIC50  num_atoms    logP\n",
       "0         O=S(=O)(Nc1cccc(-c2cnc3ccccc3n2)c1)c1cccs1   4.26         25  4.1591\n",
       "1  O=c1cc(-c2nc(-c3ccc(-c4cn(CCP(=O)(O)O)nn4)cc3)...   4.34         36  3.6743\n",
       "2             NC(=O)c1ccc2c(c1)nc(C1CCC(O)CC1)n2CCCO   4.53         23  1.5361\n",
       "3                NCCCn1c(C2CCNCC2)nc2cc(C(N)=O)ccc21   4.56         22  0.9510\n",
       "4                  CNC(=S)Nc1cccc(-c2cnc3ccccc3n2)c1   4.59         21  3.2130"
      ]
     },
     "execution_count": 140,
     "metadata": {},
     "output_type": "execute_result"
    }
   ],
   "source": [
    "dft.head()"
   ]
  },
  {
   "cell_type": "markdown",
   "id": "77f04f50-e1f6-4758-9114-017c7cad80a1",
   "metadata": {},
   "source": [
    "**Уменьшение размерности**"
   ]
  },
  {
   "cell_type": "code",
   "execution_count": 142,
   "id": "b068fbc2-99c6-4e17-a22f-e7c53ca5b29e",
   "metadata": {},
   "outputs": [
    {
     "name": "stdout",
     "output_type": "stream",
     "text": [
      "CPU times: total: 15.1 s\n",
      "Wall time: 32.4 s\n"
     ]
    }
   ],
   "source": [
    "%%time\n",
    "\n",
    "# Рассчет корреляционной матрицы\n",
    "corr_matrix = mord_desc_test.corr(numeric_only=True).abs()"
   ]
  },
  {
   "cell_type": "code",
   "execution_count": 143,
   "id": "311f2b72-e339-43bb-abf5-1edfc0e1fb03",
   "metadata": {},
   "outputs": [
    {
     "data": {
      "text/html": [
       "<div>\n",
       "<style scoped>\n",
       "    .dataframe tbody tr th:only-of-type {\n",
       "        vertical-align: middle;\n",
       "    }\n",
       "\n",
       "    .dataframe tbody tr th {\n",
       "        vertical-align: top;\n",
       "    }\n",
       "\n",
       "    .dataframe thead th {\n",
       "        text-align: right;\n",
       "    }\n",
       "</style>\n",
       "<table border=\"1\" class=\"dataframe\">\n",
       "  <thead>\n",
       "    <tr style=\"text-align: right;\">\n",
       "      <th></th>\n",
       "      <th>MolecularWeight</th>\n",
       "      <th>HBD</th>\n",
       "      <th>HBA</th>\n",
       "      <th>TPSA</th>\n",
       "      <th>RotatableBonds</th>\n",
       "      <th>NumRings</th>\n",
       "      <th>nAcid</th>\n",
       "      <th>nBase</th>\n",
       "      <th>SpAbs_A</th>\n",
       "      <th>SpMax_A</th>\n",
       "      <th>...</th>\n",
       "      <th>SRW10</th>\n",
       "      <th>TSRW10</th>\n",
       "      <th>MW</th>\n",
       "      <th>AMW</th>\n",
       "      <th>WPath</th>\n",
       "      <th>WPol</th>\n",
       "      <th>Zagreb1</th>\n",
       "      <th>Zagreb2</th>\n",
       "      <th>mZagreb1</th>\n",
       "      <th>mZagreb2</th>\n",
       "    </tr>\n",
       "  </thead>\n",
       "  <tbody>\n",
       "    <tr>\n",
       "      <th>MolecularWeight</th>\n",
       "      <td>1.000000</td>\n",
       "      <td>0.457696</td>\n",
       "      <td>0.724330</td>\n",
       "      <td>0.657520</td>\n",
       "      <td>0.627855</td>\n",
       "      <td>0.720835</td>\n",
       "      <td>0.000502</td>\n",
       "      <td>0.201486</td>\n",
       "      <td>0.952239</td>\n",
       "      <td>0.606288</td>\n",
       "      <td>...</td>\n",
       "      <td>0.786102</td>\n",
       "      <td>0.854967</td>\n",
       "      <td>0.999991</td>\n",
       "      <td>0.065755</td>\n",
       "      <td>0.834258</td>\n",
       "      <td>0.935060</td>\n",
       "      <td>0.954237</td>\n",
       "      <td>0.942325</td>\n",
       "      <td>0.902122</td>\n",
       "      <td>0.955577</td>\n",
       "    </tr>\n",
       "    <tr>\n",
       "      <th>HBD</th>\n",
       "      <td>0.457696</td>\n",
       "      <td>1.000000</td>\n",
       "      <td>0.447155</td>\n",
       "      <td>0.701382</td>\n",
       "      <td>0.383447</td>\n",
       "      <td>0.319605</td>\n",
       "      <td>0.188141</td>\n",
       "      <td>0.233329</td>\n",
       "      <td>0.479466</td>\n",
       "      <td>0.230730</td>\n",
       "      <td>...</td>\n",
       "      <td>0.355047</td>\n",
       "      <td>0.421038</td>\n",
       "      <td>0.458604</td>\n",
       "      <td>0.134715</td>\n",
       "      <td>0.458208</td>\n",
       "      <td>0.451077</td>\n",
       "      <td>0.476763</td>\n",
       "      <td>0.462949</td>\n",
       "      <td>0.485464</td>\n",
       "      <td>0.490888</td>\n",
       "    </tr>\n",
       "    <tr>\n",
       "      <th>HBA</th>\n",
       "      <td>0.724330</td>\n",
       "      <td>0.447155</td>\n",
       "      <td>1.000000</td>\n",
       "      <td>0.857899</td>\n",
       "      <td>0.548968</td>\n",
       "      <td>0.549622</td>\n",
       "      <td>0.004398</td>\n",
       "      <td>0.152852</td>\n",
       "      <td>0.751821</td>\n",
       "      <td>0.445417</td>\n",
       "      <td>...</td>\n",
       "      <td>0.584541</td>\n",
       "      <td>0.723753</td>\n",
       "      <td>0.725709</td>\n",
       "      <td>0.121019</td>\n",
       "      <td>0.671775</td>\n",
       "      <td>0.715738</td>\n",
       "      <td>0.747052</td>\n",
       "      <td>0.733983</td>\n",
       "      <td>0.711921</td>\n",
       "      <td>0.764993</td>\n",
       "    </tr>\n",
       "    <tr>\n",
       "      <th>TPSA</th>\n",
       "      <td>0.657520</td>\n",
       "      <td>0.701382</td>\n",
       "      <td>0.857899</td>\n",
       "      <td>1.000000</td>\n",
       "      <td>0.524376</td>\n",
       "      <td>0.435352</td>\n",
       "      <td>0.137144</td>\n",
       "      <td>0.126194</td>\n",
       "      <td>0.675683</td>\n",
       "      <td>0.407534</td>\n",
       "      <td>...</td>\n",
       "      <td>0.545523</td>\n",
       "      <td>0.642942</td>\n",
       "      <td>0.658917</td>\n",
       "      <td>0.097923</td>\n",
       "      <td>0.611445</td>\n",
       "      <td>0.653701</td>\n",
       "      <td>0.678305</td>\n",
       "      <td>0.663284</td>\n",
       "      <td>0.721898</td>\n",
       "      <td>0.699084</td>\n",
       "    </tr>\n",
       "    <tr>\n",
       "      <th>RotatableBonds</th>\n",
       "      <td>0.627855</td>\n",
       "      <td>0.383447</td>\n",
       "      <td>0.548968</td>\n",
       "      <td>0.524376</td>\n",
       "      <td>1.000000</td>\n",
       "      <td>0.200605</td>\n",
       "      <td>0.074969</td>\n",
       "      <td>0.194218</td>\n",
       "      <td>0.634798</td>\n",
       "      <td>0.109325</td>\n",
       "      <td>...</td>\n",
       "      <td>0.327099</td>\n",
       "      <td>0.491119</td>\n",
       "      <td>0.628921</td>\n",
       "      <td>0.282271</td>\n",
       "      <td>0.605982</td>\n",
       "      <td>0.496292</td>\n",
       "      <td>0.559674</td>\n",
       "      <td>0.513541</td>\n",
       "      <td>0.635727</td>\n",
       "      <td>0.712956</td>\n",
       "    </tr>\n",
       "    <tr>\n",
       "      <th>...</th>\n",
       "      <td>...</td>\n",
       "      <td>...</td>\n",
       "      <td>...</td>\n",
       "      <td>...</td>\n",
       "      <td>...</td>\n",
       "      <td>...</td>\n",
       "      <td>...</td>\n",
       "      <td>...</td>\n",
       "      <td>...</td>\n",
       "      <td>...</td>\n",
       "      <td>...</td>\n",
       "      <td>...</td>\n",
       "      <td>...</td>\n",
       "      <td>...</td>\n",
       "      <td>...</td>\n",
       "      <td>...</td>\n",
       "      <td>...</td>\n",
       "      <td>...</td>\n",
       "      <td>...</td>\n",
       "      <td>...</td>\n",
       "      <td>...</td>\n",
       "    </tr>\n",
       "    <tr>\n",
       "      <th>WPol</th>\n",
       "      <td>0.935060</td>\n",
       "      <td>0.451077</td>\n",
       "      <td>0.715738</td>\n",
       "      <td>0.653701</td>\n",
       "      <td>0.496292</td>\n",
       "      <td>0.826393</td>\n",
       "      <td>0.014158</td>\n",
       "      <td>0.172016</td>\n",
       "      <td>0.958472</td>\n",
       "      <td>0.719003</td>\n",
       "      <td>...</td>\n",
       "      <td>0.847159</td>\n",
       "      <td>0.879994</td>\n",
       "      <td>0.935643</td>\n",
       "      <td>0.082931</td>\n",
       "      <td>0.811610</td>\n",
       "      <td>1.000000</td>\n",
       "      <td>0.980795</td>\n",
       "      <td>0.987550</td>\n",
       "      <td>0.876395</td>\n",
       "      <td>0.939414</td>\n",
       "    </tr>\n",
       "    <tr>\n",
       "      <th>Zagreb1</th>\n",
       "      <td>0.954237</td>\n",
       "      <td>0.476763</td>\n",
       "      <td>0.747052</td>\n",
       "      <td>0.678305</td>\n",
       "      <td>0.559674</td>\n",
       "      <td>0.849770</td>\n",
       "      <td>0.009045</td>\n",
       "      <td>0.203151</td>\n",
       "      <td>0.989263</td>\n",
       "      <td>0.682827</td>\n",
       "      <td>...</td>\n",
       "      <td>0.842489</td>\n",
       "      <td>0.918942</td>\n",
       "      <td>0.954986</td>\n",
       "      <td>0.108590</td>\n",
       "      <td>0.842227</td>\n",
       "      <td>0.980795</td>\n",
       "      <td>1.000000</td>\n",
       "      <td>0.996935</td>\n",
       "      <td>0.863276</td>\n",
       "      <td>0.968858</td>\n",
       "    </tr>\n",
       "    <tr>\n",
       "      <th>Zagreb2</th>\n",
       "      <td>0.942325</td>\n",
       "      <td>0.462949</td>\n",
       "      <td>0.733983</td>\n",
       "      <td>0.663284</td>\n",
       "      <td>0.513541</td>\n",
       "      <td>0.871515</td>\n",
       "      <td>0.013816</td>\n",
       "      <td>0.191438</td>\n",
       "      <td>0.978201</td>\n",
       "      <td>0.715026</td>\n",
       "      <td>...</td>\n",
       "      <td>0.854374</td>\n",
       "      <td>0.923233</td>\n",
       "      <td>0.943014</td>\n",
       "      <td>0.095599</td>\n",
       "      <td>0.824549</td>\n",
       "      <td>0.987550</td>\n",
       "      <td>0.996935</td>\n",
       "      <td>1.000000</td>\n",
       "      <td>0.849359</td>\n",
       "      <td>0.950920</td>\n",
       "    </tr>\n",
       "    <tr>\n",
       "      <th>mZagreb1</th>\n",
       "      <td>0.902122</td>\n",
       "      <td>0.485464</td>\n",
       "      <td>0.711921</td>\n",
       "      <td>0.721898</td>\n",
       "      <td>0.635727</td>\n",
       "      <td>0.491581</td>\n",
       "      <td>0.051609</td>\n",
       "      <td>0.159934</td>\n",
       "      <td>0.846101</td>\n",
       "      <td>0.540940</td>\n",
       "      <td>...</td>\n",
       "      <td>0.708213</td>\n",
       "      <td>0.736556</td>\n",
       "      <td>0.902534</td>\n",
       "      <td>0.039675</td>\n",
       "      <td>0.786279</td>\n",
       "      <td>0.876395</td>\n",
       "      <td>0.863276</td>\n",
       "      <td>0.849359</td>\n",
       "      <td>1.000000</td>\n",
       "      <td>0.884271</td>\n",
       "    </tr>\n",
       "    <tr>\n",
       "      <th>mZagreb2</th>\n",
       "      <td>0.955577</td>\n",
       "      <td>0.490888</td>\n",
       "      <td>0.764993</td>\n",
       "      <td>0.699084</td>\n",
       "      <td>0.712956</td>\n",
       "      <td>0.732987</td>\n",
       "      <td>0.001629</td>\n",
       "      <td>0.217466</td>\n",
       "      <td>0.989559</td>\n",
       "      <td>0.566222</td>\n",
       "      <td>...</td>\n",
       "      <td>0.768267</td>\n",
       "      <td>0.866570</td>\n",
       "      <td>0.956483</td>\n",
       "      <td>0.165254</td>\n",
       "      <td>0.863835</td>\n",
       "      <td>0.939414</td>\n",
       "      <td>0.968858</td>\n",
       "      <td>0.950920</td>\n",
       "      <td>0.884271</td>\n",
       "      <td>1.000000</td>\n",
       "    </tr>\n",
       "  </tbody>\n",
       "</table>\n",
       "<p>1094 rows × 1094 columns</p>\n",
       "</div>"
      ],
      "text/plain": [
       "                 MolecularWeight       HBD       HBA      TPSA  \\\n",
       "MolecularWeight         1.000000  0.457696  0.724330  0.657520   \n",
       "HBD                     0.457696  1.000000  0.447155  0.701382   \n",
       "HBA                     0.724330  0.447155  1.000000  0.857899   \n",
       "TPSA                    0.657520  0.701382  0.857899  1.000000   \n",
       "RotatableBonds          0.627855  0.383447  0.548968  0.524376   \n",
       "...                          ...       ...       ...       ...   \n",
       "WPol                    0.935060  0.451077  0.715738  0.653701   \n",
       "Zagreb1                 0.954237  0.476763  0.747052  0.678305   \n",
       "Zagreb2                 0.942325  0.462949  0.733983  0.663284   \n",
       "mZagreb1                0.902122  0.485464  0.711921  0.721898   \n",
       "mZagreb2                0.955577  0.490888  0.764993  0.699084   \n",
       "\n",
       "                 RotatableBonds  NumRings     nAcid     nBase   SpAbs_A  \\\n",
       "MolecularWeight        0.627855  0.720835  0.000502  0.201486  0.952239   \n",
       "HBD                    0.383447  0.319605  0.188141  0.233329  0.479466   \n",
       "HBA                    0.548968  0.549622  0.004398  0.152852  0.751821   \n",
       "TPSA                   0.524376  0.435352  0.137144  0.126194  0.675683   \n",
       "RotatableBonds         1.000000  0.200605  0.074969  0.194218  0.634798   \n",
       "...                         ...       ...       ...       ...       ...   \n",
       "WPol                   0.496292  0.826393  0.014158  0.172016  0.958472   \n",
       "Zagreb1                0.559674  0.849770  0.009045  0.203151  0.989263   \n",
       "Zagreb2                0.513541  0.871515  0.013816  0.191438  0.978201   \n",
       "mZagreb1               0.635727  0.491581  0.051609  0.159934  0.846101   \n",
       "mZagreb2               0.712956  0.732987  0.001629  0.217466  0.989559   \n",
       "\n",
       "                  SpMax_A  ...     SRW10    TSRW10        MW       AMW  \\\n",
       "MolecularWeight  0.606288  ...  0.786102  0.854967  0.999991  0.065755   \n",
       "HBD              0.230730  ...  0.355047  0.421038  0.458604  0.134715   \n",
       "HBA              0.445417  ...  0.584541  0.723753  0.725709  0.121019   \n",
       "TPSA             0.407534  ...  0.545523  0.642942  0.658917  0.097923   \n",
       "RotatableBonds   0.109325  ...  0.327099  0.491119  0.628921  0.282271   \n",
       "...                   ...  ...       ...       ...       ...       ...   \n",
       "WPol             0.719003  ...  0.847159  0.879994  0.935643  0.082931   \n",
       "Zagreb1          0.682827  ...  0.842489  0.918942  0.954986  0.108590   \n",
       "Zagreb2          0.715026  ...  0.854374  0.923233  0.943014  0.095599   \n",
       "mZagreb1         0.540940  ...  0.708213  0.736556  0.902534  0.039675   \n",
       "mZagreb2         0.566222  ...  0.768267  0.866570  0.956483  0.165254   \n",
       "\n",
       "                    WPath      WPol   Zagreb1   Zagreb2  mZagreb1  mZagreb2  \n",
       "MolecularWeight  0.834258  0.935060  0.954237  0.942325  0.902122  0.955577  \n",
       "HBD              0.458208  0.451077  0.476763  0.462949  0.485464  0.490888  \n",
       "HBA              0.671775  0.715738  0.747052  0.733983  0.711921  0.764993  \n",
       "TPSA             0.611445  0.653701  0.678305  0.663284  0.721898  0.699084  \n",
       "RotatableBonds   0.605982  0.496292  0.559674  0.513541  0.635727  0.712956  \n",
       "...                   ...       ...       ...       ...       ...       ...  \n",
       "WPol             0.811610  1.000000  0.980795  0.987550  0.876395  0.939414  \n",
       "Zagreb1          0.842227  0.980795  1.000000  0.996935  0.863276  0.968858  \n",
       "Zagreb2          0.824549  0.987550  0.996935  1.000000  0.849359  0.950920  \n",
       "mZagreb1         0.786279  0.876395  0.863276  0.849359  1.000000  0.884271  \n",
       "mZagreb2         0.863835  0.939414  0.968858  0.950920  0.884271  1.000000  \n",
       "\n",
       "[1094 rows x 1094 columns]"
      ]
     },
     "execution_count": 143,
     "metadata": {},
     "output_type": "execute_result"
    }
   ],
   "source": [
    "corr_matrix"
   ]
  },
  {
   "cell_type": "code",
   "execution_count": 172,
   "id": "1cee463e-8089-40f5-923f-bcb56f7d3047",
   "metadata": {},
   "outputs": [],
   "source": [
    "# Удаление высоко коррелированных признаков\n",
    "threshold = 0.95\n",
    "upper = corr_matrix.where(np.triu(np.ones(corr_matrix.shape), k=1).astype(np.bool_))\n",
    "to_drop = [column for column in upper.columns if any(upper[column] > threshold)]\n",
    "mordred_desc_reduced = mord_desc_test.drop(to_drop, axis=1)"
   ]
  },
  {
   "cell_type": "code",
   "execution_count": 173,
   "id": "a915b7e2-13ec-4e24-94c9-b0b58ad2fa3e",
   "metadata": {},
   "outputs": [
    {
     "data": {
      "text/plain": [
       "(15005, 579)"
      ]
     },
     "execution_count": 173,
     "metadata": {},
     "output_type": "execute_result"
    }
   ],
   "source": [
    "mordred_desc_reduced.shape"
   ]
  },
  {
   "cell_type": "markdown",
   "id": "77cc9c74-fb04-43f6-8ebf-4ba272c02fa3",
   "metadata": {},
   "source": [
    "Удаление высоко коррелированных признаков:\n",
    "\n",
    "0,95: (, 1088) -> (, 579) "
   ]
  },
  {
   "cell_type": "code",
   "execution_count": 174,
   "id": "44e10785-af5e-4cbf-8e13-80481c66ae18",
   "metadata": {},
   "outputs": [
    {
     "data": {
      "text/plain": [
       "(15005, 579)"
      ]
     },
     "execution_count": 174,
     "metadata": {},
     "output_type": "execute_result"
    }
   ],
   "source": [
    "from sklearn.preprocessing import StandardScaler\n",
    "\n",
    "# Стандартизация данных\n",
    "scaler = StandardScaler()\n",
    "scaled_features = scaler.fit_transform(mordred_desc_reduced)\n",
    "scaled_features.shape"
   ]
  },
  {
   "cell_type": "code",
   "execution_count": 175,
   "id": "7672983e-74af-4626-9720-3a5266539c80",
   "metadata": {},
   "outputs": [
    {
     "data": {
      "text/plain": [
       "(15005, 470)"
      ]
     },
     "execution_count": 175,
     "metadata": {},
     "output_type": "execute_result"
    }
   ],
   "source": [
    "# Удаление почти-константных признаков (Удаление низковариативных признаков)\n",
    "from sklearn.feature_selection import VarianceThreshold\n",
    "\n",
    "vt = VarianceThreshold(threshold=1e-5)\n",
    "scaled_features = vt.fit_transform(scaled_features)\n",
    "scaled_features.shape"
   ]
  },
  {
   "cell_type": "code",
   "execution_count": 176,
   "id": "38faf736-9255-489f-8e9f-4e856401e7ba",
   "metadata": {},
   "outputs": [
    {
     "data": {
      "text/plain": [
       "(15005, 100)"
      ]
     },
     "execution_count": 176,
     "metadata": {},
     "output_type": "execute_result"
    }
   ],
   "source": [
    "from sklearn.decomposition import PCA\n",
    "\n",
    "# PCA с сохранением 95% дисперсии\n",
    "# pca = PCA(n_components=0.95, svd_solver='randomized', random_state=42)\n",
    "pca = PCA(n_components=100, random_state=42)\n",
    "pca_features = pca.fit_transform(scaled_features)\n",
    "\n",
    "# Создание DataFrame с компонентами\n",
    "pca_df = pd.DataFrame(pca_features, columns=[f\"PC_{i}\" for i in range(pca_features.shape[1])])\n",
    "pca_features.shape"
   ]
  },
  {
   "cell_type": "code",
   "execution_count": 177,
   "id": "f2c007a1-a022-4b50-b069-6d30ddb230f8",
   "metadata": {},
   "outputs": [],
   "source": [
    "# pca_df"
   ]
  },
  {
   "cell_type": "code",
   "execution_count": 178,
   "id": "076b9f81-57d0-438a-8b71-c863cca70b55",
   "metadata": {
    "scrolled": true
   },
   "outputs": [
    {
     "data": {
      "text/plain": [
       "0"
      ]
     },
     "execution_count": 178,
     "metadata": {},
     "output_type": "execute_result"
    }
   ],
   "source": [
    "# Подбор оптимального параметра n_components\n",
    "np.argmax(np.cumsum(pca.explained_variance_ratio_) >= 0.95)"
   ]
  },
  {
   "cell_type": "code",
   "execution_count": null,
   "id": "6b530f9e-8c90-48b9-bafb-6ab005330275",
   "metadata": {},
   "outputs": [],
   "source": []
  },
  {
   "cell_type": "code",
   "execution_count": null,
   "id": "76e54b0c-5582-4d70-81d5-0abe75a15863",
   "metadata": {},
   "outputs": [],
   "source": []
  },
  {
   "cell_type": "code",
   "execution_count": 179,
   "id": "5b292d65-4d3f-4d0e-a53d-5ad3b9328f1f",
   "metadata": {},
   "outputs": [
    {
     "data": {
      "text/plain": [
       "(15005, 10)"
      ]
     },
     "execution_count": 179,
     "metadata": {},
     "output_type": "execute_result"
    }
   ],
   "source": [
    "import umap\n",
    "\n",
    "# Инициализация и применение UMAP\n",
    "um = umap.UMAP(n_components=10) \n",
    "umap_features = um.fit_transform(pca_features)\n",
    "\n",
    "# Создание DataFrame\n",
    "umap_df = pd.DataFrame(umap_features, columns=[f\"UMAP_{i}\" for i in range(umap_features.shape[1])])\n",
    "umap_features.shape"
   ]
  },
  {
   "cell_type": "code",
   "execution_count": null,
   "id": "f4020b3a-85fa-4ebc-975f-602ff2e25026",
   "metadata": {},
   "outputs": [],
   "source": []
  },
  {
   "cell_type": "markdown",
   "id": "69951ec5-35bf-4161-9a4c-55074689d8d7",
   "metadata": {},
   "source": [
    "**Обучение модели**"
   ]
  },
  {
   "cell_type": "code",
   "execution_count": 154,
   "id": "97649558-f575-4810-8748-b01410f7b218",
   "metadata": {},
   "outputs": [],
   "source": [
    "scaled_dft_values = scaler.fit_transform(dft_values)"
   ]
  },
  {
   "cell_type": "code",
   "execution_count": 155,
   "id": "3785530e-9932-448f-bc88-f83dd40c9a07",
   "metadata": {},
   "outputs": [
    {
     "data": {
      "text/plain": [
       "(15005, 3)"
      ]
     },
     "execution_count": 155,
     "metadata": {},
     "output_type": "execute_result"
    }
   ],
   "source": [
    "scaled_dft_values.shape"
   ]
  },
  {
   "cell_type": "code",
   "execution_count": 156,
   "id": "09ec23d1-348a-49c3-a857-5fc4df012366",
   "metadata": {},
   "outputs": [
    {
     "data": {
      "text/plain": [
       "(15005, 5)"
      ]
     },
     "execution_count": 156,
     "metadata": {},
     "output_type": "execute_result"
    }
   ],
   "source": [
    "umap_features.shape"
   ]
  },
  {
   "cell_type": "code",
   "execution_count": 180,
   "id": "31877b9e-95f8-4aa0-8b2a-80052274b757",
   "metadata": {},
   "outputs": [
    {
     "data": {
      "text/plain": [
       "(15005, 13)"
      ]
     },
     "execution_count": 180,
     "metadata": {},
     "output_type": "execute_result"
    }
   ],
   "source": [
    "X = np.concatenate((dft_values, umap_features), axis=1)\n",
    "X.shape"
   ]
  },
  {
   "cell_type": "markdown",
   "id": "6cf6564d-75f8-4984-9163-f91bcc64fb3d",
   "metadata": {},
   "source": [
    "**Как оценить правильность кластеризации?**\n",
    "\n",
    "**а) Метрики внутренней валидации**\n",
    "\n",
    "Эти метрики не требуют знания истинных меток и оценивают \"качество\" кластеров на основе структуры данных:\n",
    "\n",
    "1) **Силуэтный коэффициент (Silhouette Score):** <br>\n",
    "Оценивает, насколько объект похож на свой кластер (когезия) и отличается от других (сепарация). <br>\n",
    "**Интерпретация:** <br>\n",
    "    \\- Значение от -1 до 1. Чем ближе к 1, тем лучше. <br>\n",
    "    \\- Если $s(i) \\approx 0$, объект находится на границе кластеров. <br>\n",
    "    \\- Отрицательные значения — признаки неудачной кластеризации. <br>\n",
    "**Замечание:** <br>\n",
    "Чем больше размер кластера (т.е. чем больше элементов в нем), тем точнее оценка, т.к. элемент будет содержаться в этом самом большом кластере \n",
    "\n",
    "3) **Индекс Дэвиса-Болдуина (Davies-Bouldin Index):** <br>\n",
    "Среднее \"сходство\" между кластерами. Чем меньше значение, тем лучше разделены кластеры.\n",
    "Формула:\n",
    "$DB = \\frac{1}{k}\\sum_{i=1}^{k}{\\max_{j \\neq i}{(\\dots)}}$ <br>\n",
    "**Интерпретация:** <br>\n",
    "    \\- Чем ближе к 0, тем лучше. <br>\n",
    "**Замечание:** <br>\n",
    "Чем меньше элементов в кластере (кластер из одного элемента явл-ся самым оптимальным), тем точнее оценка, т.к. в этом кластере содержиться меньше элементов, которые могут отклонить \"среднее значение\". \n",
    "\n",
    "\n",
    "5) **Индекс Калинского-Харабаза (Calinski-Harabasz Index):** <br>\n",
    "Отношение дисперсии между кластерами к дисперсии внутри кластеров. Чем выше значение, тем лучше. <br>\n",
    "**Интерпретация:** <br>\n",
    "    \\- Чем выше значение, тем лучше. <br>\n",
    "**Замечание:** <br>\n",
    "Тоже самое, что для Силуэтный коэффициента. Дисперисия в кластере с одним элементов всегда меньше кластера с двумя элементами"
   ]
  },
  {
   "cell_type": "code",
   "execution_count": null,
   "id": "c063f688-f82a-4090-9d2c-02b0379d4af8",
   "metadata": {},
   "outputs": [],
   "source": [
    "# Оценки для k-means алгоритма\n",
    "\n",
    "n_clast = (2, 20)\n",
    "\n",
    "silhouette_scores = []\n",
    "db_scores = []\n",
    "ch_scores = []\n",
    "inertias = []\n",
    "for k in range(n_clast[0], n_clast[1]):\n",
    "    kmeans = KMeans(n_clusters=k)\n",
    "    labels = kmeans.fit_predict(X)\n",
    "\n",
    "    silhouette_scores.append(silhouette_score(X, labels))\n",
    "\n",
    "    db_scores.append(davies_bouldin_score(X, labels))\n",
    "\n",
    "    ch_scores.append(calinski_harabasz_score(X, labels))\n",
    "\n",
    "    kmeans.fit(X)\n",
    "    inertias.append(kmeans.inertia_)"
   ]
  },
  {
   "cell_type": "code",
   "execution_count": null,
   "id": "42bba9bf-4594-4b1c-9d35-7846cc4ea27d",
   "metadata": {},
   "outputs": [],
   "source": [
    "fig, ax = plt.subplots(4, figsize=(12, 12))\n",
    "fig.suptitle('Оценки кластеризации', fontsize=18)\n",
    "ax[0].plot(range(n_clast[0], n_clast[1]), silhouette_scores, marker='o')\n",
    "ax[0].set_title('Силуэтный коэффициент')\n",
    "ax[1].plot(range(n_clast[0], n_clast[1]), db_scores, marker='o', color='orange')\n",
    "ax[1].set_title('Индекс Дэвиса-Болдуина')\n",
    "ax[2].plot(range(n_clast[0], n_clast[1]), ch_scores, marker='o', color='g')\n",
    "ax[2].set_title('Индекс Калинского-Харабаза')\n",
    "ax[3].plot(range(n_clast[0], n_clast[1]), inertias, marker='o', color='y')\n",
    "ax[3].set_title('Метод локтя')\n",
    "fig.tight_layout(pad=1.5)\n",
    "plt.show()"
   ]
  },
  {
   "cell_type": "code",
   "execution_count": null,
   "id": "394580a4-1e1c-4d84-bb27-8a0224f696c8",
   "metadata": {},
   "outputs": [],
   "source": []
  },
  {
   "cell_type": "code",
   "execution_count": null,
   "id": "52392fdd-915d-455f-bc7b-5c620a963af2",
   "metadata": {},
   "outputs": [],
   "source": []
  },
  {
   "cell_type": "code",
   "execution_count": null,
   "id": "6cf75ca7-376b-4fc3-85f5-c8b292782028",
   "metadata": {},
   "outputs": [],
   "source": []
  },
  {
   "cell_type": "markdown",
   "id": "9a0ec0e4-25b3-47c0-95de-15a1b2ae3703",
   "metadata": {},
   "source": [
    "**HDBSCAN**"
   ]
  },
  {
   "cell_type": "code",
   "execution_count": null,
   "id": "95f4a557-de87-4b03-83a6-4d9244a3ee64",
   "metadata": {},
   "outputs": [],
   "source": [
    "import hdbscan\n",
    "\n",
    "# HDBSCAN\n",
    "clusterer = hdbscan.HDBSCAN()\n",
    "labels = clusterer.fit_predict(X)\n",
    "\n",
    "# Оценки\n",
    "\n",
    "sil = silhouette_score(X[labels != -1], labels[labels != -1])\n",
    "db = davies_bouldin_score(X[labels != -1], labels[labels != -1])\n",
    "\n",
    "print(\"sil:\", sil, \"db:\", db, \"n:\", len(np.unique(labels)))\n",
    "# print(np.unique(labels))"
   ]
  },
  {
   "cell_type": "markdown",
   "id": "dac6e168-95f1-4df3-b585-ed2cb21e2ea8",
   "metadata": {},
   "source": [
    "**DBSCAN**"
   ]
  },
  {
   "cell_type": "code",
   "execution_count": null,
   "id": "1819f5a3-48d5-47ae-9094-457e18092ae3",
   "metadata": {},
   "outputs": [],
   "source": [
    "from sklearn.cluster import DBSCAN\n",
    "from sklearn.metrics import silhouette_score\n",
    "\n",
    "# Кластеризация\n",
    "# dbscan = DBSCAN(eps=0, min_samples=100)\n",
    "dbscan = DBSCAN(eps=0.5)\n",
    "clusters_db = dbscan.fit_predict(X)\n",
    "\n",
    "# Оценка качества (игнорируем шумовые точки)\n",
    "if len(np.unique(clusters_db)) > 1:\n",
    "    sil = silhouette_score(X[clusters_db != -1], clusters_db[clusters_db != -1])\n",
    "    db = davies_bouldin_score(X[clusters_db != -1], clusters_db[clusters_db != -1])\n",
    "    ch = calinski_harabasz_score(X[clusters_db != -1], clusters_db[clusters_db != -1])\n",
    "    print(\"Силуэтный коэффициент:\", sil, \"\\nИндекс Дэвиса-Болдуина:\", db, \"\\nИндекс Калинского-Харабаза:\", ch, \"\\nКол-во кластеров:\", len(np.unique(clusters_db)))\n",
    "else:\n",
    "    print(\"Все данные отнесены к шуму или одному кластеру.\")"
   ]
  },
  {
   "cell_type": "code",
   "execution_count": null,
   "id": "f662f8a5-5111-47c6-bb11-9465ac406489",
   "metadata": {},
   "outputs": [],
   "source": [
    "counts = np.bincount(clusters_db + 1, minlength=len(np.unique(clusters_db)) + 1)  # от -1 до 10 включительно = 12 чисел\n",
    "counts"
   ]
  },
  {
   "cell_type": "markdown",
   "id": "e0310bec-276d-4d19-9777-1c68d060cb41",
   "metadata": {},
   "source": [
    "Практически все элементы находятся в одном кластере"
   ]
  },
  {
   "cell_type": "markdown",
   "id": "8582f9d0-c752-475c-92bd-d7a41e56bd7f",
   "metadata": {},
   "source": [
    "**OPTICS**"
   ]
  },
  {
   "cell_type": "code",
   "execution_count": null,
   "id": "8c7c015d-35e1-4182-8965-8db4c272d70e",
   "metadata": {},
   "outputs": [],
   "source": [
    "from sklearn.cluster import OPTICS\n",
    "\n",
    "optics = OPTICS(\n",
    "    min_samples=10,        # минимальное число точек для кластера\n",
    "    # xi=0.05,               # чувствительность к изменению плотности\n",
    "    min_cluster_size=0.01  # минимальный размер кластера (в долях)\n",
    ")\n",
    "clusters_op = optics.fit_predict(X)\n",
    "\n",
    "# Оценка качества (игнорируем шумовые точки)\n",
    "if len(np.unique(clusters_db)) > 1:\n",
    "    sil = silhouette_score(X[clusters_op != -1], clusters_op[clusters_op != -1])\n",
    "    db = davies_bouldin_score(X[clusters_op != -1], clusters_op[clusters_op != -1])\n",
    "    ch = calinski_harabasz_score(X[clusters_op != -1], clusters_op[clusters_op != -1])\n",
    "    print(\"Силуэтный коэффициент:\", sil, \"\\nИндекс Дэвиса-Болдуина:\", db, \"\\nИндекс Калинского-Харабаза:\", ch, \"\\nКол-во кластеров:\", len(np.unique(clusters_op)))\n",
    "else:\n",
    "    print(\"Все данные отнесены к шуму или одному кластеру.\")"
   ]
  },
  {
   "cell_type": "code",
   "execution_count": null,
   "id": "8adf6aae-3027-436c-b81e-52b0027508de",
   "metadata": {},
   "outputs": [],
   "source": [
    "counts = np.bincount(clusters_op + 1, minlength=len(np.unique(clusters_op)) + 1)  # от -1 до 10 включительно = 12 чисел\n",
    "counts"
   ]
  },
  {
   "cell_type": "code",
   "execution_count": 165,
   "id": "e275a968-ec6e-44dd-b7a7-4e7e5c2a7fca",
   "metadata": {},
   "outputs": [
    {
     "data": {
      "image/png": "[encoded data removed]",
      "text/plain": [
       "<Figure size 640x480 with 1 Axes>"
      ]
     },
     "metadata": {},
     "output_type": "display_data"
    }
   ],
   "source": [
    "from sklearn.neighbors import NearestNeighbors\n",
    "import numpy as np\n",
    "import matplotlib.pyplot as plt\n",
    "\n",
    "# X_emb — матрица, на которой запускается DBSCAN (UMAP или PCA)\n",
    "k = 10  # обычно = min_samples\n",
    "nbrs = NearestNeighbors(n_neighbors=k).fit(X)\n",
    "distances, indices = nbrs.kneighbors(X)\n",
    "k_distances = np.sort(distances[:, -1])  # расстояние до k-го соседа, отсортированное\n",
    "\n",
    "plt.plot(k_distances)\n",
    "plt.ylabel(f\"Distance to {k}-th neighbor\")\n",
    "plt.xlabel(\"Points sorted by distance\")\n",
    "plt.grid(True)\n",
    "plt.show()"
   ]
  },
  {
   "cell_type": "code",
   "execution_count": 166,
   "id": "75a84d1a-2b1a-4267-9c2a-e66b1d81e05e",
   "metadata": {},
   "outputs": [],
   "source": [
    "def show_clusters_means(df, clusters):\n",
    "    cluster_means = pd.DataFrame(df).groupby(clusters).mean()\n",
    "    \n",
    "    # Визуализация\n",
    "    plt.figure(figsize=(12, 6))\n",
    "    sns.heatmap(cluster_means.T, cmap='viridis', annot=True, fmt=\"3.1f\")\n",
    "    plt.title('Средние значения признаков по кластерам')\n",
    "    plt.xlabel('Кластер')\n",
    "    plt.ylabel('Признак')\n",
    "    plt.show()"
   ]
  },
  {
   "cell_type": "code",
   "execution_count": 171,
   "id": "0c82ec01-e59f-49df-a42f-7cb4e216342a",
   "metadata": {},
   "outputs": [
    {
     "data": {
      "image/png": "[encoded data removed]",
      "text/plain": [
       "<Figure size 1200x600 with 2 Axes>"
      ]
     },
     "metadata": {},
     "output_type": "display_data"
    }
   ],
   "source": [
    "show_clusters_means(dft_values, labels)"
   ]
  },
  {
   "cell_type": "markdown",
   "id": "ede62849-562a-423e-a124-ce0aa1676e0b",
   "metadata": {},
   "source": [
    "**Дальнейшие действия**\n",
    "\n",
    "Нужно как-то получить дескрипоры, которые мы оставили при уменьшении размерности \n",
    "Вроде бы эти столбцы сохраняются в виде свойства для каждого метода\n",
    "\n",
    "scaler\n",
    "\n",
    "varianceTreshHold\n",
    "\n",
    "PCA\n",
    "\n",
    "UMAP"
   ]
  },
  {
   "cell_type": "code",
   "execution_count": 170,
   "id": "ebc4c983-a9ac-4632-901f-327362e80c1b",
   "metadata": {},
   "outputs": [
    {
     "data": {
      "image/png": "[encoded data removed]",
      "text/plain": [
       "<Figure size 1000x500 with 1 Axes>"
      ]
     },
     "metadata": {},
     "output_type": "display_data"
    }
   ],
   "source": [
    "import matplotlib.pyplot as plt\n",
    "import seaborn as sns\n",
    "\n",
    "plt.figure(figsize=(10,5))\n",
    "sns.histplot(x=\"Cluster\", y=\"pIC50\", data=dft_result)\n",
    "plt.title(\"Распределение pIC50 по кластерам\")\n",
    "plt.show()"
   ]
  },
  {
   "cell_type": "markdown",
   "id": "71753dc5-2bbf-4433-8b85-c15fb31c653c",
   "metadata": {},
   "source": [
    "Почему то присутствует неравномерное распределение св-ва pIC50. Обычно есть кластер где содержиться больше элементов чем в остальных"
   ]
  },
  {
   "cell_type": "code",
   "execution_count": null,
   "id": "37109d63-57e0-4410-a56d-22cf5a84bc79",
   "metadata": {},
   "outputs": [],
   "source": []
  },
  {
   "cell_type": "code",
   "execution_count": 167,
   "id": "23d0c4da-023b-4bf3-b7ec-928b9ccc42f9",
   "metadata": {},
   "outputs": [],
   "source": [
    "kmeans = KMeans(n_clusters=4)\n",
    "labels = kmeans.fit_predict(X)\n",
    "clusters_db_df = pd.DataFrame(labels, columns=[\"Cluster\"])"
   ]
  },
  {
   "cell_type": "code",
   "execution_count": 168,
   "id": "2b9f4dc6-f187-4120-bd05-fea65dcfbcac",
   "metadata": {},
   "outputs": [
    {
     "data": {
      "text/plain": [
       "array([   0, 2699, 6288, 5742,  276], dtype=int64)"
      ]
     },
     "execution_count": 168,
     "metadata": {},
     "output_type": "execute_result"
    }
   ],
   "source": [
    "counts = np.bincount(labels + 1, minlength=len(np.unique(labels)) + 1)  # от -1 до 10 включительно = 12 чисел\n",
    "counts"
   ]
  },
  {
   "cell_type": "code",
   "execution_count": 53,
   "id": "cf6e5203-c170-4b75-a6b1-e5d195982993",
   "metadata": {},
   "outputs": [],
   "source": [
    "clusters_db_df = pd.DataFrame(clusters_db.T, columns=[\"Cluster\"])"
   ]
  },
  {
   "cell_type": "code",
   "execution_count": 169,
   "id": "eada7cb3-00bc-4469-986f-226d1ca4d59c",
   "metadata": {},
   "outputs": [],
   "source": [
    "dft_result = pd.concat([dft_values, clusters_db_df], axis=1)"
   ]
  },
  {
   "cell_type": "code",
   "execution_count": 56,
   "id": "4cfb3b53-c854-47b0-ab1a-f79b2af42969",
   "metadata": {},
   "outputs": [
    {
     "data": {
      "text/html": [
       "<div>\n",
       "<style scoped>\n",
       "    .dataframe tbody tr th:only-of-type {\n",
       "        vertical-align: middle;\n",
       "    }\n",
       "\n",
       "    .dataframe tbody tr th {\n",
       "        vertical-align: top;\n",
       "    }\n",
       "\n",
       "    .dataframe thead th {\n",
       "        text-align: right;\n",
       "    }\n",
       "</style>\n",
       "<table border=\"1\" class=\"dataframe\">\n",
       "  <thead>\n",
       "    <tr style=\"text-align: right;\">\n",
       "      <th></th>\n",
       "      <th>pIC50</th>\n",
       "      <th>num_atoms</th>\n",
       "      <th>logP</th>\n",
       "      <th>MolecularWeight</th>\n",
       "      <th>HBD</th>\n",
       "      <th>HBA</th>\n",
       "      <th>TPSA</th>\n",
       "      <th>RotatableBonds</th>\n",
       "      <th>NumRings</th>\n",
       "      <th>Cluster</th>\n",
       "    </tr>\n",
       "  </thead>\n",
       "  <tbody>\n",
       "    <tr>\n",
       "      <th>0</th>\n",
       "      <td>4.26</td>\n",
       "      <td>25</td>\n",
       "      <td>4.15910</td>\n",
       "      <td>367.455</td>\n",
       "      <td>1</td>\n",
       "      <td>5</td>\n",
       "      <td>71.95</td>\n",
       "      <td>4</td>\n",
       "      <td>4</td>\n",
       "      <td>2</td>\n",
       "    </tr>\n",
       "    <tr>\n",
       "      <th>1</th>\n",
       "      <td>4.34</td>\n",
       "      <td>36</td>\n",
       "      <td>3.67430</td>\n",
       "      <td>506.434</td>\n",
       "      <td>4</td>\n",
       "      <td>6</td>\n",
       "      <td>149.78</td>\n",
       "      <td>7</td>\n",
       "      <td>5</td>\n",
       "      <td>1</td>\n",
       "    </tr>\n",
       "    <tr>\n",
       "      <th>2</th>\n",
       "      <td>4.53</td>\n",
       "      <td>23</td>\n",
       "      <td>1.53610</td>\n",
       "      <td>317.389</td>\n",
       "      <td>3</td>\n",
       "      <td>5</td>\n",
       "      <td>101.37</td>\n",
       "      <td>5</td>\n",
       "      <td>3</td>\n",
       "      <td>2</td>\n",
       "    </tr>\n",
       "    <tr>\n",
       "      <th>3</th>\n",
       "      <td>4.56</td>\n",
       "      <td>22</td>\n",
       "      <td>0.95100</td>\n",
       "      <td>301.394</td>\n",
       "      <td>3</td>\n",
       "      <td>5</td>\n",
       "      <td>98.96</td>\n",
       "      <td>5</td>\n",
       "      <td>3</td>\n",
       "      <td>2</td>\n",
       "    </tr>\n",
       "    <tr>\n",
       "      <th>4</th>\n",
       "      <td>4.59</td>\n",
       "      <td>21</td>\n",
       "      <td>3.21300</td>\n",
       "      <td>294.383</td>\n",
       "      <td>2</td>\n",
       "      <td>3</td>\n",
       "      <td>49.84</td>\n",
       "      <td>2</td>\n",
       "      <td>3</td>\n",
       "      <td>2</td>\n",
       "    </tr>\n",
       "    <tr>\n",
       "      <th>...</th>\n",
       "      <td>...</td>\n",
       "      <td>...</td>\n",
       "      <td>...</td>\n",
       "      <td>...</td>\n",
       "      <td>...</td>\n",
       "      <td>...</td>\n",
       "      <td>...</td>\n",
       "      <td>...</td>\n",
       "      <td>...</td>\n",
       "      <td>...</td>\n",
       "    </tr>\n",
       "    <tr>\n",
       "      <th>15000</th>\n",
       "      <td>0.00</td>\n",
       "      <td>24</td>\n",
       "      <td>3.21560</td>\n",
       "      <td>333.420</td>\n",
       "      <td>2</td>\n",
       "      <td>4</td>\n",
       "      <td>62.20</td>\n",
       "      <td>4</td>\n",
       "      <td>3</td>\n",
       "      <td>2</td>\n",
       "    </tr>\n",
       "    <tr>\n",
       "      <th>15001</th>\n",
       "      <td>0.00</td>\n",
       "      <td>19</td>\n",
       "      <td>5.45270</td>\n",
       "      <td>275.461</td>\n",
       "      <td>0</td>\n",
       "      <td>2</td>\n",
       "      <td>12.36</td>\n",
       "      <td>11</td>\n",
       "      <td>1</td>\n",
       "      <td>4</td>\n",
       "    </tr>\n",
       "    <tr>\n",
       "      <th>15002</th>\n",
       "      <td>0.00</td>\n",
       "      <td>17</td>\n",
       "      <td>4.67250</td>\n",
       "      <td>247.407</td>\n",
       "      <td>0</td>\n",
       "      <td>2</td>\n",
       "      <td>12.36</td>\n",
       "      <td>9</td>\n",
       "      <td>1</td>\n",
       "      <td>4</td>\n",
       "    </tr>\n",
       "    <tr>\n",
       "      <th>15003</th>\n",
       "      <td>0.00</td>\n",
       "      <td>22</td>\n",
       "      <td>3.93289</td>\n",
       "      <td>306.394</td>\n",
       "      <td>1</td>\n",
       "      <td>4</td>\n",
       "      <td>38.54</td>\n",
       "      <td>3</td>\n",
       "      <td>4</td>\n",
       "      <td>2</td>\n",
       "    </tr>\n",
       "    <tr>\n",
       "      <th>15004</th>\n",
       "      <td>0.02</td>\n",
       "      <td>13</td>\n",
       "      <td>1.70887</td>\n",
       "      <td>181.131</td>\n",
       "      <td>1</td>\n",
       "      <td>5</td>\n",
       "      <td>106.59</td>\n",
       "      <td>3</td>\n",
       "      <td>1</td>\n",
       "      <td>0</td>\n",
       "    </tr>\n",
       "  </tbody>\n",
       "</table>\n",
       "<p>15005 rows × 10 columns</p>\n",
       "</div>"
      ],
      "text/plain": [
       "       pIC50  num_atoms     logP  MolecularWeight  HBD  HBA    TPSA  \\\n",
       "0       4.26         25  4.15910          367.455    1    5   71.95   \n",
       "1       4.34         36  3.67430          506.434    4    6  149.78   \n",
       "2       4.53         23  1.53610          317.389    3    5  101.37   \n",
       "3       4.56         22  0.95100          301.394    3    5   98.96   \n",
       "4       4.59         21  3.21300          294.383    2    3   49.84   \n",
       "...      ...        ...      ...              ...  ...  ...     ...   \n",
       "15000   0.00         24  3.21560          333.420    2    4   62.20   \n",
       "15001   0.00         19  5.45270          275.461    0    2   12.36   \n",
       "15002   0.00         17  4.67250          247.407    0    2   12.36   \n",
       "15003   0.00         22  3.93289          306.394    1    4   38.54   \n",
       "15004   0.02         13  1.70887          181.131    1    5  106.59   \n",
       "\n",
       "       RotatableBonds  NumRings  Cluster  \n",
       "0                   4         4        2  \n",
       "1                   7         5        1  \n",
       "2                   5         3        2  \n",
       "3                   5         3        2  \n",
       "4                   2         3        2  \n",
       "...               ...       ...      ...  \n",
       "15000               4         3        2  \n",
       "15001              11         1        4  \n",
       "15002               9         1        4  \n",
       "15003               3         4        2  \n",
       "15004               3         1        0  \n",
       "\n",
       "[15005 rows x 10 columns]"
      ]
     },
     "execution_count": 56,
     "metadata": {},
     "output_type": "execute_result"
    }
   ],
   "source": [
    "dft_result"
   ]
  },
  {
   "cell_type": "code",
   "execution_count": 279,
   "id": "f74c766b-d048-4a45-835b-7a84091c4f32",
   "metadata": {},
   "outputs": [
    {
     "data": {
      "text/html": [
       "<div>\n",
       "<style scoped>\n",
       "    .dataframe tbody tr th:only-of-type {\n",
       "        vertical-align: middle;\n",
       "    }\n",
       "\n",
       "    .dataframe tbody tr th {\n",
       "        vertical-align: top;\n",
       "    }\n",
       "\n",
       "    .dataframe thead th {\n",
       "        text-align: right;\n",
       "    }\n",
       "</style>\n",
       "<table border=\"1\" class=\"dataframe\">\n",
       "  <thead>\n",
       "    <tr style=\"text-align: right;\">\n",
       "      <th></th>\n",
       "      <th>pIC50</th>\n",
       "      <th>num_atoms</th>\n",
       "      <th>logP</th>\n",
       "      <th>MolecularWeight</th>\n",
       "      <th>HBD</th>\n",
       "      <th>HBA</th>\n",
       "      <th>TPSA</th>\n",
       "      <th>RotatableBonds</th>\n",
       "      <th>NumRings</th>\n",
       "      <th>Cluster</th>\n",
       "    </tr>\n",
       "  </thead>\n",
       "  <tbody>\n",
       "    <tr>\n",
       "      <th>count</th>\n",
       "      <td>15005.000000</td>\n",
       "      <td>15005.000000</td>\n",
       "      <td>15005.000000</td>\n",
       "      <td>15005.000000</td>\n",
       "      <td>15005.000000</td>\n",
       "      <td>15005.000000</td>\n",
       "      <td>15005.000000</td>\n",
       "      <td>15005.000000</td>\n",
       "      <td>15005.000000</td>\n",
       "      <td>15005.000000</td>\n",
       "    </tr>\n",
       "    <tr>\n",
       "      <th>mean</th>\n",
       "      <td>0.995791</td>\n",
       "      <td>18.931490</td>\n",
       "      <td>2.465248</td>\n",
       "      <td>276.228444</td>\n",
       "      <td>1.139820</td>\n",
       "      <td>3.752016</td>\n",
       "      <td>61.236614</td>\n",
       "      <td>3.634722</td>\n",
       "      <td>2.100966</td>\n",
       "      <td>20.540953</td>\n",
       "    </tr>\n",
       "    <tr>\n",
       "      <th>std</th>\n",
       "      <td>2.475348</td>\n",
       "      <td>8.444723</td>\n",
       "      <td>1.441981</td>\n",
       "      <td>118.694703</td>\n",
       "      <td>1.118441</td>\n",
       "      <td>2.387376</td>\n",
       "      <td>37.665155</td>\n",
       "      <td>2.992135</td>\n",
       "      <td>1.377351</td>\n",
       "      <td>60.243524</td>\n",
       "    </tr>\n",
       "    <tr>\n",
       "      <th>min</th>\n",
       "      <td>0.000000</td>\n",
       "      <td>3.000000</td>\n",
       "      <td>-0.404900</td>\n",
       "      <td>40.065000</td>\n",
       "      <td>0.000000</td>\n",
       "      <td>0.000000</td>\n",
       "      <td>0.000000</td>\n",
       "      <td>0.000000</td>\n",
       "      <td>0.000000</td>\n",
       "      <td>-1.000000</td>\n",
       "    </tr>\n",
       "    <tr>\n",
       "      <th>25%</th>\n",
       "      <td>0.000000</td>\n",
       "      <td>13.000000</td>\n",
       "      <td>1.414200</td>\n",
       "      <td>189.174000</td>\n",
       "      <td>0.000000</td>\n",
       "      <td>2.000000</td>\n",
       "      <td>34.140000</td>\n",
       "      <td>1.000000</td>\n",
       "      <td>1.000000</td>\n",
       "      <td>-1.000000</td>\n",
       "    </tr>\n",
       "    <tr>\n",
       "      <th>50%</th>\n",
       "      <td>0.010000</td>\n",
       "      <td>17.000000</td>\n",
       "      <td>2.282800</td>\n",
       "      <td>257.318000</td>\n",
       "      <td>1.000000</td>\n",
       "      <td>3.000000</td>\n",
       "      <td>56.790000</td>\n",
       "      <td>3.000000</td>\n",
       "      <td>2.000000</td>\n",
       "      <td>-1.000000</td>\n",
       "    </tr>\n",
       "    <tr>\n",
       "      <th>75%</th>\n",
       "      <td>0.130000</td>\n",
       "      <td>23.000000</td>\n",
       "      <td>3.308900</td>\n",
       "      <td>343.415000</td>\n",
       "      <td>2.000000</td>\n",
       "      <td>5.000000</td>\n",
       "      <td>85.360000</td>\n",
       "      <td>5.000000</td>\n",
       "      <td>3.000000</td>\n",
       "      <td>-1.000000</td>\n",
       "    </tr>\n",
       "    <tr>\n",
       "      <th>max</th>\n",
       "      <td>10.970000</td>\n",
       "      <td>85.000000</td>\n",
       "      <td>15.879200</td>\n",
       "      <td>1202.635000</td>\n",
       "      <td>10.000000</td>\n",
       "      <td>20.000000</td>\n",
       "      <td>288.280000</td>\n",
       "      <td>32.000000</td>\n",
       "      <td>9.000000</td>\n",
       "      <td>284.000000</td>\n",
       "    </tr>\n",
       "  </tbody>\n",
       "</table>\n",
       "</div>"
      ],
      "text/plain": [
       "              pIC50     num_atoms          logP  MolecularWeight  \\\n",
       "count  15005.000000  15005.000000  15005.000000     15005.000000   \n",
       "mean       0.995791     18.931490      2.465248       276.228444   \n",
       "std        2.475348      8.444723      1.441981       118.694703   \n",
       "min        0.000000      3.000000     -0.404900        40.065000   \n",
       "25%        0.000000     13.000000      1.414200       189.174000   \n",
       "50%        0.010000     17.000000      2.282800       257.318000   \n",
       "75%        0.130000     23.000000      3.308900       343.415000   \n",
       "max       10.970000     85.000000     15.879200      1202.635000   \n",
       "\n",
       "                HBD           HBA          TPSA  RotatableBonds      NumRings  \\\n",
       "count  15005.000000  15005.000000  15005.000000    15005.000000  15005.000000   \n",
       "mean       1.139820      3.752016     61.236614        3.634722      2.100966   \n",
       "std        1.118441      2.387376     37.665155        2.992135      1.377351   \n",
       "min        0.000000      0.000000      0.000000        0.000000      0.000000   \n",
       "25%        0.000000      2.000000     34.140000        1.000000      1.000000   \n",
       "50%        1.000000      3.000000     56.790000        3.000000      2.000000   \n",
       "75%        2.000000      5.000000     85.360000        5.000000      3.000000   \n",
       "max       10.000000     20.000000    288.280000       32.000000      9.000000   \n",
       "\n",
       "            Cluster  \n",
       "count  15005.000000  \n",
       "mean      20.540953  \n",
       "std       60.243524  \n",
       "min       -1.000000  \n",
       "25%       -1.000000  \n",
       "50%       -1.000000  \n",
       "75%       -1.000000  \n",
       "max      284.000000  "
      ]
     },
     "execution_count": 279,
     "metadata": {},
     "output_type": "execute_result"
    }
   ],
   "source": [
    "dft_result.describe()"
   ]
  },
  {
   "cell_type": "code",
   "execution_count": null,
   "id": "5967914f-821f-4acf-8853-f3bbbc3b91df",
   "metadata": {},
   "outputs": [],
   "source": []
  }
 ],
 "metadata": {
  "kernelspec": {
   "display_name": "Python 3 (ipykernel)",
   "language": "python",
   "name": "python3"
  },
  "language_info": {
   "codemirror_mode": {
    "name": "ipython",
    "version": 3
   },
   "file_extension": ".py",
   "mimetype": "text/x-python",
   "name": "python",
   "nbconvert_exporter": "python",
   "pygments_lexer": "ipython3",
   "version": "3.12.4"
  }
 },
 "nbformat": 4,
 "nbformat_minor": 5
}
